{
 "cells": [
  {
   "cell_type": "code",
   "execution_count": 1,
   "id": "6a0a4304",
   "metadata": {},
   "outputs": [],
   "source": [
    "import numpy as np\n",
    "import pandas as pd\n",
    "from sklearn.model_selection import train_test_split, RandomizedSearchCV, cross_val_score\n",
    "from sklearn.tree import DecisionTreeRegressor\n",
    "from sklearn.metrics import mean_squared_error\n",
    "from sklearn.preprocessing import OneHotEncoder\n",
    "from math import sqrt\n",
    "\n",
    "# Configurar las opciones de visualización de pandas (opcional)\n",
    "pd.set_option('display.max_rows', 500)\n",
    "pd.set_option('display.max_columns', 500)\n",
    "pd.set_option('display.width', 1000)\n",
    "\n",
    "# Cargar los conjuntos de datos\n",
    "df_train = pd.read_csv('C:/Users/Marcio Pineda/Documents/Archivos Python/datasets/traincase.csv')\n",
    "df_test = pd.read_csv('C:/Users/Marcio Pineda/Documents/Archivos Python/datasets/testcase.csv')\n",
    "\n",
    "# Función para limpiar y convertir columnas monetarias y numéricas\n",
    "def clean_data(df):\n",
    "    cols_to_clean = ['Search Engine Bid', 'Avg. Cost per Click', 'Impressions', 'Clicks']\n",
    "    for col in cols_to_clean:\n",
    "        if col in df.columns:\n",
    "            df[col] = df[col].str.replace('$', '').str.replace(',', '').astype(float)\n",
    "    return df\n",
    "\n",
    "df_train = clean_data(df_train)\n",
    "df_test = clean_data(df_test)"
   ]
  },
  {
   "cell_type": "code",
   "execution_count": 3,
   "id": "890923e8",
   "metadata": {},
   "outputs": [
    {
     "ename": "NameError",
     "evalue": "name 'X_train' is not defined",
     "output_type": "error",
     "traceback": [
      "\u001b[1;31m---------------------------------------------------------------------------\u001b[0m",
      "\u001b[1;31mNameError\u001b[0m                                 Traceback (most recent call last)",
      "Cell \u001b[1;32mIn[3], line 5\u001b[0m\n\u001b[0;32m      1\u001b[0m \u001b[38;5;28;01mfrom\u001b[39;00m \u001b[38;5;21;01msklearn\u001b[39;00m\u001b[38;5;21;01m.\u001b[39;00m\u001b[38;5;21;01mtree\u001b[39;00m \u001b[38;5;28;01mimport\u001b[39;00m DecisionTreeRegressor\n\u001b[0;32m      4\u001b[0m modelo \u001b[38;5;241m=\u001b[39m DecisionTreeRegressor(max_depth\u001b[38;5;241m=\u001b[39m\u001b[38;5;241m10\u001b[39m, min_samples_leaf\u001b[38;5;241m=\u001b[39m\u001b[38;5;241m4\u001b[39m, min_samples_split\u001b[38;5;241m=\u001b[39m\u001b[38;5;241m4\u001b[39m, random_state\u001b[38;5;241m=\u001b[39m\u001b[38;5;241m42\u001b[39m)\n\u001b[1;32m----> 5\u001b[0m modelo\u001b[38;5;241m.\u001b[39mfit(X_train, y_train)\n\u001b[0;32m      6\u001b[0m predicciones \u001b[38;5;241m=\u001b[39m modelo\u001b[38;5;241m.\u001b[39mpredict(X_train)\n\u001b[0;32m      7\u001b[0m residuos \u001b[38;5;241m=\u001b[39m y_train \u001b[38;5;241m-\u001b[39m predicciones\n",
      "\u001b[1;31mNameError\u001b[0m: name 'X_train' is not defined"
     ]
    }
   ],
   "source": [
    "\n"
   ]
  },
  {
   "cell_type": "code",
   "execution_count": null,
   "id": "0f2a39e1",
   "metadata": {},
   "outputs": [],
   "source": [
    "# Definir el modelo y parámetros para RandomizedSearchCV\n",
    "param_distributions = {\n",
    "    'max_depth': [3, 5, 7, 9, None],\n",
    "    'min_samples_split': [2, 5, 10],\n",
    "    'min_samples_leaf': [1, 2, 4],\n",
    "    'max_features': [None, 'sqrt', 'log2']\n",
    "}\n",
    "\n",
    "# Ajuste de RandomizedSearchCV al conjunto de entrenamiento\n",
    "model = DecisionTreeRegressor(random_state=42)\n",
    "random_search = RandomizedSearchCV(\n",
    "    estimator=model,\n",
    "    param_distributions=param_distributions,\n",
    "    n_iter=100, \n",
    "    scoring='neg_mean_squared_error',\n",
    "    cv=5,\n",
    "    n_jobs=-1,\n",
    "    random_state=42,\n",
    "    verbose=1\n",
    ")\n",
    "random_search.fit(X_train, y_train)\n",
    "\n",
    "# Mejores parámetros y RMSE\n",
    "best_params = random_search.best_params_\n",
    "best_rmse = sqrt(-random_search.best_score_)\n",
    "\n",
    "print(f\"Mejores parámetros: {best_params}\")\n",
    "print(f\"Mejor RMSE: {best_rmse}\")"
   ]
  }
 ],
 "metadata": {
  "kernelspec": {
   "display_name": "Python 3 (ipykernel)",
   "language": "python",
   "name": "python3"
  },
  "language_info": {
   "codemirror_mode": {
    "name": "ipython",
    "version": 3
   },
   "file_extension": ".py",
   "mimetype": "text/x-python",
   "name": "python",
   "nbconvert_exporter": "python",
   "pygments_lexer": "ipython3",
   "version": "3.11.5"
  }
 },
 "nbformat": 4,
 "nbformat_minor": 5
}
