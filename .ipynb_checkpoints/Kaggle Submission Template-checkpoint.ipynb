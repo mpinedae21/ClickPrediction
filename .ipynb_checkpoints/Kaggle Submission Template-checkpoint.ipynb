{
 "cells": [
  {
   "cell_type": "markdown",
   "metadata": {
    "deletable": false,
    "editable": false,
    "run_control": {
     "frozen": true
    }
   },
   "source": [
    "<hr style=\"height:.9px;border:none;color:#333;background-color:#333;\" />\n",
    "<hr style=\"height:.9px;border:none;color:#333;background-color:#333;\" />\n",
    "\n",
    "<br><h2>Kaggle Submission Template</h2>\n",
    "<h4>DAT-5390 | Computational Data Analytics with Python</h4>\n",
    "Chase Kusterer - Faculty of Analytics<br>\n",
    "Hult International Business School<br><br><br>\n",
    "\n",
    "<hr style=\"height:.9px;border:none;color:#333;background-color:#333;\" />\n",
    "<hr style=\"height:.9px;border:none;color:#333;background-color:#333;\" />\n",
    "\n",
    "<br>\n",
    "\n",
    "<h3>The Purpose of the Notebook</h3><br>\n",
    "This Notebook is organized as a template for submitting on Kaggle. It will output a .csv file that can be submitted via Kaggle.<br><br>\n",
    "Remember that you also need to provide an analysis alongside your model building via the assignment link on the course page. Start by conducting your analysis and then copy/paste relevant code to this template (missing value imputation, feature engineering, etc.). Please do not submit this template as your analysis (many of the technical steps are not necessary for the analysis). Finally, on the course page, make sure to submit your analysis and model development as one document in two formats (Jupyter Notebook and a .txt file).\n",
    "<br><br>\n",
    "<hr style=\"height:.9px;border:none;color:#333;background-color:#333;\" />"
   ]
  },
  {
   "cell_type": "markdown",
   "metadata": {
    "deletable": false,
    "editable": false,
    "run_control": {
     "frozen": true
    }
   },
   "source": [
    "<h3>Reminder: Model Analysis Tips</h3><br>\n",
    "<strong>How fit should a model be?</strong><br>\n",
    "As a general heuristic, if the training and testing scores are within 0.05 of each other, the model has not been overfit. Don't worry if the testing score ends up higher than the training score. Some sources claim that in such situations a model is underfit, but this is a general misconception that is beyond the scope of this course. For this course, long as the training and testing scores are within 0.05 of each other, the model is good to go.\n",
    "<br><br>\n",
    "\n",
    "<strong>Which model should I choose?</strong><br>\n",
    "All models have their own benefits and drawbacks. Thus, it is important to test out more than one and to also explore their <a href=\"https://scikit-learn.org/stable/modules/classes.html#classical-linear-regressors\">documentation</a>."
   ]
  },
  {
   "cell_type": "markdown",
   "metadata": {
    "deletable": false,
    "editable": false,
    "run_control": {
     "frozen": true
    }
   },
   "source": [
    "<hr style=\"height:.9px;border:none;color:#333;background-color:#333;\" /><br>\n",
    "\n",
    "<h2>Part I: Imports and Data Check</h2>"
   ]
  },
  {
   "cell_type": "code",
   "execution_count": 1,
   "metadata": {},
   "outputs": [],
   "source": [
    "## importing libraries ##\n",
    "\n",
    "# for this template submission\n",
    "import numpy             as np                       # mathematical essentials\n",
    "import pandas            as pd                       # data science essentials\n",
    "import sklearn.linear_model                          # linear models\n",
    "from sklearn.model_selection import train_test_split # train/test split\n",
    "\n",
    "\n",
    "#!###############################!#\n",
    "#!# import additional libraries #!#\n",
    "#!###############################!#\n",
    "\n",
    "\n",
    "\n",
    "# setting pandas print options (optional)\n",
    "pd.set_option('display.max_rows', 500)\n",
    "pd.set_option('display.max_columns', 500)\n",
    "pd.set_option('display.width', 1000)"
   ]
  },
  {
   "cell_type": "markdown",
   "metadata": {
    "deletable": false,
    "editable": false,
    "run_control": {
     "frozen": true
    }
   },
   "source": [
    "<br>"
   ]
  },
  {
   "cell_type": "code",
   "execution_count": 2,
   "metadata": {
    "deletable": false,
    "editable": false
   },
   "outputs": [],
   "source": [
    "## importing data ##\n",
    "\n",
    "# reading modeling data into Python\n",
    "modeling_data = './datasets/train.xlsx'\n",
    "\n",
    "# calling this df_train\n",
    "df_train = pd.read_excel(io         = modeling_data,\n",
    "                         sheet_name = 'data',\n",
    "                         header     = 0,\n",
    "                         index_col  = 'ID')\n",
    "\n",
    "\n",
    "\n",
    "# reading testing data into Python\n",
    "testing_data = './datasets/test.xlsx'\n",
    "\n",
    "# calling this df_test\n",
    "df_test = pd.read_excel(io         = testing_data,\n",
    "                        sheet_name = 'data',\n",
    "                        header     = 0,\n",
    "                        index_col  = 'ID')"
   ]
  },
  {
   "cell_type": "markdown",
   "metadata": {
    "deletable": false,
    "editable": false,
    "run_control": {
     "frozen": true
    }
   },
   "source": [
    "<br>"
   ]
  },
  {
   "cell_type": "code",
   "execution_count": 3,
   "metadata": {
    "deletable": false,
    "editable": false
   },
   "outputs": [
    {
     "data": {
      "text/html": [
       "<div>\n",
       "<style scoped>\n",
       "    .dataframe tbody tr th:only-of-type {\n",
       "        vertical-align: middle;\n",
       "    }\n",
       "\n",
       "    .dataframe tbody tr th {\n",
       "        vertical-align: top;\n",
       "    }\n",
       "\n",
       "    .dataframe thead th {\n",
       "        text-align: right;\n",
       "    }\n",
       "</style>\n",
       "<table border=\"1\" class=\"dataframe\">\n",
       "  <thead>\n",
       "    <tr style=\"text-align: right;\">\n",
       "      <th></th>\n",
       "      <th>DateHour</th>\n",
       "      <th>Temperature(F)</th>\n",
       "      <th>Humidity(%)</th>\n",
       "      <th>Wind speed (mph)</th>\n",
       "      <th>Visibility(miles)</th>\n",
       "      <th>DewPointTemperature(F)</th>\n",
       "      <th>Rainfall(in)</th>\n",
       "      <th>Snowfall(in)</th>\n",
       "      <th>SolarRadiation(MJ/m2)</th>\n",
       "      <th>Holiday</th>\n",
       "      <th>FunctioningDay</th>\n",
       "      <th>RENTALS</th>\n",
       "      <th>set</th>\n",
       "    </tr>\n",
       "    <tr>\n",
       "      <th>ID</th>\n",
       "      <th></th>\n",
       "      <th></th>\n",
       "      <th></th>\n",
       "      <th></th>\n",
       "      <th></th>\n",
       "      <th></th>\n",
       "      <th></th>\n",
       "      <th></th>\n",
       "      <th></th>\n",
       "      <th></th>\n",
       "      <th></th>\n",
       "      <th></th>\n",
       "      <th></th>\n",
       "    </tr>\n",
       "  </thead>\n",
       "  <tbody>\n",
       "    <tr>\n",
       "      <th>mb_1039</th>\n",
       "      <td>2023-10-14 05:59:54.810000</td>\n",
       "      <td>52</td>\n",
       "      <td>81</td>\n",
       "      <td>0.4</td>\n",
       "      <td>2.9</td>\n",
       "      <td>46.4</td>\n",
       "      <td>0.0</td>\n",
       "      <td>0.0</td>\n",
       "      <td>0.00</td>\n",
       "      <td>No</td>\n",
       "      <td>Yes</td>\n",
       "      <td>519.0</td>\n",
       "      <td>Not Kaggle</td>\n",
       "    </tr>\n",
       "    <tr>\n",
       "      <th>mb_1330</th>\n",
       "      <td>2023-10-26 08:59:53.355000</td>\n",
       "      <td>51</td>\n",
       "      <td>53</td>\n",
       "      <td>2.2</td>\n",
       "      <td>NaN</td>\n",
       "      <td>35.2</td>\n",
       "      <td>0.0</td>\n",
       "      <td>0.0</td>\n",
       "      <td>1.01</td>\n",
       "      <td>No</td>\n",
       "      <td>Yes</td>\n",
       "      <td>1251.0</td>\n",
       "      <td>Not Kaggle</td>\n",
       "    </tr>\n",
       "    <tr>\n",
       "      <th>mb_551</th>\n",
       "      <td>2023-09-23 21:59:57.250000</td>\n",
       "      <td>56</td>\n",
       "      <td>49</td>\n",
       "      <td>2.5</td>\n",
       "      <td>3.4</td>\n",
       "      <td>38.8</td>\n",
       "      <td>0.0</td>\n",
       "      <td>0.0</td>\n",
       "      <td>0.00</td>\n",
       "      <td>No</td>\n",
       "      <td>Yes</td>\n",
       "      <td>1685.0</td>\n",
       "      <td>Not Kaggle</td>\n",
       "    </tr>\n",
       "    <tr>\n",
       "      <th>mb_2103</th>\n",
       "      <td>2023-12-19 14:00:00</td>\n",
       "      <td>69</td>\n",
       "      <td>32</td>\n",
       "      <td>9.8</td>\n",
       "      <td>12.4</td>\n",
       "      <td>38.7</td>\n",
       "      <td>0.0</td>\n",
       "      <td>0.0</td>\n",
       "      <td>2.36</td>\n",
       "      <td>No</td>\n",
       "      <td>No</td>\n",
       "      <td>0.0</td>\n",
       "      <td>Not Kaggle</td>\n",
       "    </tr>\n",
       "    <tr>\n",
       "      <th>mb_1430</th>\n",
       "      <td>2023-10-30 12:59:52.855000</td>\n",
       "      <td>53</td>\n",
       "      <td>20</td>\n",
       "      <td>2.9</td>\n",
       "      <td>10.8</td>\n",
       "      <td>12.9</td>\n",
       "      <td>0.0</td>\n",
       "      <td>0.0</td>\n",
       "      <td>1.96</td>\n",
       "      <td>No</td>\n",
       "      <td>Yes</td>\n",
       "      <td>814.0</td>\n",
       "      <td>Not Kaggle</td>\n",
       "    </tr>\n",
       "  </tbody>\n",
       "</table>\n",
       "</div>"
      ],
      "text/plain": [
       "                           DateHour  Temperature(F)  Humidity(%)  Wind speed (mph)  Visibility(miles)  DewPointTemperature(F)  Rainfall(in)  Snowfall(in)  SolarRadiation(MJ/m2) Holiday FunctioningDay  RENTALS         set\n",
       "ID                                                                                                                                                                                                                          \n",
       "mb_1039  2023-10-14 05:59:54.810000              52           81               0.4                2.9                    46.4           0.0           0.0                   0.00      No            Yes    519.0  Not Kaggle\n",
       "mb_1330  2023-10-26 08:59:53.355000              51           53               2.2                NaN                    35.2           0.0           0.0                   1.01      No            Yes   1251.0  Not Kaggle\n",
       "mb_551   2023-09-23 21:59:57.250000              56           49               2.5                3.4                    38.8           0.0           0.0                   0.00      No            Yes   1685.0  Not Kaggle\n",
       "mb_2103         2023-12-19 14:00:00              69           32               9.8               12.4                    38.7           0.0           0.0                   2.36      No             No      0.0  Not Kaggle\n",
       "mb_1430  2023-10-30 12:59:52.855000              53           20               2.9               10.8                    12.9           0.0           0.0                   1.96      No            Yes    814.0  Not Kaggle"
      ]
     },
     "execution_count": 3,
     "metadata": {},
     "output_type": "execute_result"
    }
   ],
   "source": [
    "# concatenating datasets together for mv analysis and feature engineering\n",
    "df_train['set'] = 'Not Kaggle'\n",
    "df_test ['set'] = 'Kaggle'\n",
    "\n",
    "# concatenating both datasets together for mv and feature engineering\n",
    "df_full = pd.concat(objs = [df_train, df_test],\n",
    "                    axis = 0,\n",
    "                    ignore_index = False)\n",
    "\n",
    "\n",
    "# checking data\n",
    "df_full.head(n = 5)"
   ]
  },
  {
   "cell_type": "markdown",
   "metadata": {
    "deletable": false,
    "editable": false,
    "run_control": {
     "frozen": true
    }
   },
   "source": [
    "<br>"
   ]
  },
  {
   "cell_type": "code",
   "execution_count": 4,
   "metadata": {
    "deletable": false,
    "editable": false
   },
   "outputs": [
    {
     "data": {
      "text/plain": [
       "Index(['DateHour', 'Temperature(F)', 'Humidity(%)', 'Wind speed (mph)', 'Visibility(miles)', 'DewPointTemperature(F)', 'Rainfall(in)', 'Snowfall(in)', 'SolarRadiation(MJ/m2)', 'Holiday', 'FunctioningDay', 'RENTALS', 'set'], dtype='object')"
      ]
     },
     "execution_count": 4,
     "metadata": {},
     "output_type": "execute_result"
    }
   ],
   "source": [
    "# checking available features\n",
    "df_full.columns"
   ]
  },
  {
   "cell_type": "markdown",
   "metadata": {
    "deletable": false,
    "editable": false,
    "run_control": {
     "frozen": true
    }
   },
   "source": [
    "<br>"
   ]
  },
  {
   "cell_type": "code",
   "execution_count": 5,
   "metadata": {},
   "outputs": [],
   "source": [
    "#!##############################!#\n",
    "#!# set your response variable #!#\n",
    "#!##############################!#\n",
    "y_variable = 'RENTALS' # input as a string"
   ]
  },
  {
   "cell_type": "markdown",
   "metadata": {
    "deletable": false,
    "editable": false,
    "run_control": {
     "frozen": true
    }
   },
   "source": [
    "<br><hr style=\"height:.9px;border:none;color:#333;background-color:#333;\" /><br>\n",
    "\n",
    "<h2>Part II: Data Preparation</h2><br>\n",
    "Complete the following steps to prepare for model building. Note that you may add or remove steps as you see fit. Please see the assignment description for details on what steps are required for this project.\n",
    "<br><br>\n",
    "<h3>Base Modeling</h3>"
   ]
  },
  {
   "cell_type": "code",
   "execution_count": null,
   "metadata": {},
   "outputs": [],
   "source": [
    "## Base Modeling ##\n",
    "\n"
   ]
  },
  {
   "cell_type": "markdown",
   "metadata": {
    "deletable": false,
    "editable": false,
    "run_control": {
     "frozen": true
    }
   },
   "source": [
    "<br><h3>Missing Value Analysis and Imputation</h3>"
   ]
  },
  {
   "cell_type": "code",
   "execution_count": null,
   "metadata": {},
   "outputs": [],
   "source": [
    "## Missing Value Imputation ##\n",
    "\n"
   ]
  },
  {
   "cell_type": "markdown",
   "metadata": {
    "deletable": false,
    "editable": false,
    "run_control": {
     "frozen": true
    }
   },
   "source": [
    "<br><h3>Transformations</h3>"
   ]
  },
  {
   "cell_type": "code",
   "execution_count": null,
   "metadata": {},
   "outputs": [],
   "source": [
    "## Transformations ##\n",
    "\n"
   ]
  },
  {
   "cell_type": "markdown",
   "metadata": {
    "deletable": false,
    "editable": false,
    "run_control": {
     "frozen": true
    }
   },
   "source": [
    "<br><h3>Feature Engineering</h3>"
   ]
  },
  {
   "cell_type": "code",
   "execution_count": null,
   "metadata": {},
   "outputs": [],
   "source": [
    "## Feature Engineering ##\n",
    "\n"
   ]
  },
  {
   "cell_type": "markdown",
   "metadata": {
    "deletable": false,
    "editable": false,
    "run_control": {
     "frozen": true
    }
   },
   "source": [
    "<br><h3>Standardization</h3>"
   ]
  },
  {
   "cell_type": "code",
   "execution_count": null,
   "metadata": {},
   "outputs": [],
   "source": [
    "## Standardization ##\n",
    "\n"
   ]
  },
  {
   "cell_type": "markdown",
   "metadata": {
    "deletable": false,
    "editable": false,
    "run_control": {
     "frozen": true
    }
   },
   "source": [
    "<br><hr style=\"height:.9px;border:none;color:#333;background-color:#333;\" /><br>\n",
    "\n",
    "<h2>Part III: Data Partitioning</h2><br>\n",
    "This is a very important step for your submission on Kaggle. Make sure to complete your data preparationbefore moving forward.\n",
    "<br>\n",
    "<br><h3>Separating the Kaggle Data</h3><br>"
   ]
  },
  {
   "cell_type": "code",
   "execution_count": 6,
   "metadata": {
    "deletable": false,
    "editable": false
   },
   "outputs": [],
   "source": [
    "## parsing out testing data (needed for later) ##\n",
    "\n",
    "# dataset for kaggle\n",
    "kaggle_data = df_full[ df_full['set'] == 'Kaggle' ].copy()\n",
    "\n",
    "\n",
    "# dataset for model building\n",
    "df = df_full[ df_full['set'] == 'Not Kaggle' ].copy()\n",
    "\n",
    "\n",
    "# dropping set identifier (kaggle)\n",
    "kaggle_data.drop(labels = 'set',\n",
    "                 axis = 1,\n",
    "                 inplace = True)\n",
    "\n",
    "\n",
    "# dropping set identifier (model building)\n",
    "df.drop(labels = 'set',\n",
    "        axis = 1,\n",
    "        inplace = True)"
   ]
  },
  {
   "cell_type": "markdown",
   "metadata": {
    "deletable": false,
    "editable": false,
    "run_control": {
     "frozen": true
    }
   },
   "source": [
    "<br><h3>Train-Test Split</h3><br>\n",
    "Note that the following code will remove non-numeric features, keeping only integer and float data types. It will also remove any observations that contain missing values. This is to prevent errors in the model building process. "
   ]
  },
  {
   "cell_type": "code",
   "execution_count": null,
   "metadata": {},
   "outputs": [],
   "source": [
    "df.columns"
   ]
  },
  {
   "cell_type": "code",
   "execution_count": 13,
   "metadata": {},
   "outputs": [
    {
     "name": "stdout",
     "output_type": "stream",
     "text": [
      "\n",
      "Original Dataset Dimensions\n",
      "---------------------------\n",
      "Observations (Rows): 1638\n",
      "Features  (Columns): 12\n",
      "\n",
      "\n",
      "Training Data (X-side)\n",
      "----------------------\n",
      "Observations (Rows): 1228\n",
      "Features  (Columns): 5\n",
      "\n",
      "\n",
      "Training Data (y-side)\n",
      "----------------------\n",
      "Feature Name:        RENTALS\n",
      "Observations (Rows): 1228\n",
      "\n",
      "\n",
      "Testing Data (X-side)\n",
      "---------------------\n",
      "Observations (Rows): 410\n",
      "Features  (Columns): 5\n",
      "\n",
      "\n",
      "Testing Data (y-side)\n",
      "---------------------\n",
      "Feature Name:        RENTALS\n",
      "Observations (Rows): 410\n"
     ]
    }
   ],
   "source": [
    "#!###########################!#\n",
    "#!# choose your x-variables #!#\n",
    "#!###########################!#\n",
    "x_features = ['DateHour', 'Temperature(F)', 'Humidity(%)', 'Wind speed (mph)', 'Visibility(miles)', 'DewPointTemperature(F)', 'Rainfall(in)', 'Snowfall(in)', 'SolarRadiation(MJ/m2)', 'Holiday', 'FunctioningDay'] # this should be a list\n",
    "\n",
    "\n",
    "\n",
    "## ########################### ##\n",
    "## DON'T CHANGE THE CODE BELOW ##\n",
    "## ########################### ##\n",
    "\n",
    "# prepping data for train-test split\n",
    "y_data = df[y_variable]\n",
    "\n",
    "\n",
    "# removing non-numeric columns and missing values\n",
    "x_data = df[x_features].copy().select_dtypes(include=[int, float]).dropna(axis = 1)\n",
    "\n",
    "\n",
    "#!#!\n",
    "x_features = list(x_data.columns)\n",
    "\n",
    "# train-test split (to validate the model)\n",
    "x_train, x_test, y_train, y_test = train_test_split(x_data, \n",
    "                                                    y_data, \n",
    "                                                    test_size    = 0.25,\n",
    "                                                    random_state = 702 )\n",
    "\n",
    "\n",
    "# results of train-test split\n",
    "print(f\"\"\"\n",
    "Original Dataset Dimensions\n",
    "---------------------------\n",
    "Observations (Rows): {df.shape[0]}\n",
    "Features  (Columns): {df.shape[1]}\n",
    "\n",
    "\n",
    "Training Data (X-side)\n",
    "----------------------\n",
    "Observations (Rows): {x_train.shape[0]}\n",
    "Features  (Columns): {x_train.shape[1]}\n",
    "\n",
    "\n",
    "Training Data (y-side)\n",
    "----------------------\n",
    "Feature Name:        {y_train.name}\n",
    "Observations (Rows): {y_train.shape[0]}\n",
    "\n",
    "\n",
    "Testing Data (X-side)\n",
    "---------------------\n",
    "Observations (Rows): {x_test.shape[0]}\n",
    "Features  (Columns): {x_test.shape[1]}\n",
    "\n",
    "\n",
    "Testing Data (y-side)\n",
    "---------------------\n",
    "Feature Name:        {y_test.name}\n",
    "Observations (Rows): {y_test.shape[0]}\"\"\")"
   ]
  },
  {
   "cell_type": "code",
   "execution_count": 14,
   "metadata": {},
   "outputs": [
    {
     "data": {
      "text/plain": [
       "['Temperature(F)',\n",
       " 'Humidity(%)',\n",
       " 'Wind speed (mph)',\n",
       " 'Rainfall(in)',\n",
       " 'Snowfall(in)']"
      ]
     },
     "execution_count": 14,
     "metadata": {},
     "output_type": "execute_result"
    }
   ],
   "source": [
    "x_features"
   ]
  },
  {
   "cell_type": "markdown",
   "metadata": {
    "deletable": false,
    "editable": false,
    "run_control": {
     "frozen": true
    }
   },
   "source": [
    "<hr style=\"height:.9px;border:none;color:#333;background-color:#333;\" /><br>\n",
    "\n",
    "<h2>Part III: Candidate Modeling</h2><br>\n",
    "Develop your candidate models below."
   ]
  },
  {
   "cell_type": "code",
   "execution_count": 15,
   "metadata": {},
   "outputs": [
    {
     "name": "stdout",
     "output_type": "stream",
     "text": [
      "Model Name:     test\n",
      "Train_Score:    0.2402\n",
      "Test_Score:     0.2365\n",
      "Train-Test Gap: 0.0037\n",
      "\n"
     ]
    }
   ],
   "source": [
    "## Candidate Modeling ##\n",
    "\n",
    "#!###########################!#\n",
    "#!# choose your x-variables #!#\n",
    "#!###########################!#\n",
    "# naming the model\n",
    "model_name = \"test\" # name your model\n",
    "\n",
    "# model type\n",
    "model = sklearn.linear_model.LinearRegression() # model type ( ex: sklearn.linear_model.LinearRegression() )\n",
    "\n",
    "\n",
    "\n",
    "## ########################### ##\n",
    "## DON'T CHANGE THE CODE BELOW ##\n",
    "## ########################### ##\n",
    "\n",
    "# FITTING to the training data\n",
    "model_fit = model.fit(x_train, y_train)\n",
    "\n",
    "\n",
    "# PREDICTING on new data\n",
    "model_pred = model.predict(x_test)\n",
    "\n",
    "\n",
    "# SCORING the results\n",
    "model_train_score = model.score(x_train, y_train).round(4)\n",
    "model_test_score  = model.score(x_test, y_test).round(4)\n",
    "model_gap         = abs(model_train_score - model_test_score).round(4)\n",
    "    \n",
    "\n",
    "# dynamically printing results\n",
    "model_summary =  f\"\"\"\\\n",
    "Model Name:     {model_name}\n",
    "Train_Score:    {model_train_score}\n",
    "Test_Score:     {model_test_score}\n",
    "Train-Test Gap: {model_gap}\n",
    "\"\"\"\n",
    "\n",
    "print(model_summary)"
   ]
  },
  {
   "cell_type": "markdown",
   "metadata": {
    "deletable": false,
    "editable": false,
    "run_control": {
     "frozen": true
    }
   },
   "source": [
    "<br>\n",
    "<h3>Model Results</h3><br>\n",
    "Remember that some models have coefficients, visual outputs, etc. Make sure to analyze relevant results for the models you build."
   ]
  },
  {
   "cell_type": "code",
   "execution_count": null,
   "metadata": {},
   "outputs": [],
   "source": [
    "## Model Results ##\n",
    "\n"
   ]
  },
  {
   "cell_type": "markdown",
   "metadata": {
    "deletable": false,
    "editable": false,
    "run_control": {
     "frozen": true
    }
   },
   "source": [
    "<br>\n",
    "<h3>Residual Analysis</h3><br>"
   ]
  },
  {
   "cell_type": "code",
   "execution_count": 16,
   "metadata": {},
   "outputs": [
    {
     "data": {
      "text/html": [
       "<div>\n",
       "<style scoped>\n",
       "    .dataframe tbody tr th:only-of-type {\n",
       "        vertical-align: middle;\n",
       "    }\n",
       "\n",
       "    .dataframe tbody tr th {\n",
       "        vertical-align: top;\n",
       "    }\n",
       "\n",
       "    .dataframe thead th {\n",
       "        text-align: right;\n",
       "    }\n",
       "</style>\n",
       "<table border=\"1\" class=\"dataframe\">\n",
       "  <thead>\n",
       "    <tr style=\"text-align: right;\">\n",
       "      <th></th>\n",
       "      <th>True</th>\n",
       "      <th>Predicted</th>\n",
       "    </tr>\n",
       "    <tr>\n",
       "      <th>ID</th>\n",
       "      <th></th>\n",
       "      <th></th>\n",
       "    </tr>\n",
       "  </thead>\n",
       "  <tbody>\n",
       "    <tr>\n",
       "      <th>mb_1509</th>\n",
       "      <td>908.0</td>\n",
       "      <td>788.073723</td>\n",
       "    </tr>\n",
       "    <tr>\n",
       "      <th>mb_559</th>\n",
       "      <td>131.0</td>\n",
       "      <td>313.708201</td>\n",
       "    </tr>\n",
       "    <tr>\n",
       "      <th>mb_040</th>\n",
       "      <td>1208.0</td>\n",
       "      <td>1234.511169</td>\n",
       "    </tr>\n",
       "    <tr>\n",
       "      <th>mb_1346</th>\n",
       "      <td>291.0</td>\n",
       "      <td>600.729097</td>\n",
       "    </tr>\n",
       "    <tr>\n",
       "      <th>mb_1463</th>\n",
       "      <td>1433.0</td>\n",
       "      <td>688.282368</td>\n",
       "    </tr>\n",
       "  </tbody>\n",
       "</table>\n",
       "</div>"
      ],
      "text/plain": [
       "           True    Predicted\n",
       "ID                          \n",
       "mb_1509   908.0   788.073723\n",
       "mb_559    131.0   313.708201\n",
       "mb_040   1208.0  1234.511169\n",
       "mb_1346   291.0   600.729097\n",
       "mb_1463  1433.0   688.282368"
      ]
     },
     "execution_count": 16,
     "metadata": {},
     "output_type": "execute_result"
    }
   ],
   "source": [
    "## Residual Analysis ##\n",
    "\n",
    "# organizing residuals\n",
    "model_residuals = {\"True\"            : y_test,\n",
    "                   \"Predicted\"       : model_pred\n",
    "                  }\n",
    "\n",
    "\n",
    "# converting residuals into df\n",
    "model_resid_df = pd.DataFrame(data = model_residuals)\n",
    "\n",
    "\n",
    "# checking results\n",
    "model_resid_df.head(n = 5)\n",
    "\n",
    "\n",
    "#!###########################!#\n",
    "#!# add more code as needed #!#\n",
    "#!###########################!#\n",
    "\n"
   ]
  },
  {
   "cell_type": "markdown",
   "metadata": {
    "deletable": false,
    "editable": false,
    "run_control": {
     "frozen": true
    }
   },
   "source": [
    "<br>\n",
    "<h3>Hyperparameter Tuning</h3><br>"
   ]
  },
  {
   "cell_type": "code",
   "execution_count": null,
   "metadata": {},
   "outputs": [],
   "source": [
    "## Hyperparameter Tuning ##\n",
    "\n"
   ]
  },
  {
   "cell_type": "markdown",
   "metadata": {
    "deletable": false,
    "editable": false,
    "run_control": {
     "frozen": true
    }
   },
   "source": [
    "<hr style=\"height:.9px;border:none;color:#333;background-color:#333;\" /><br>\n",
    "\n",
    "<h2>Part IV: Preparing Submission File for Kaggle</h2><br>\n",
    "The code below will store the predicted values for each of the models above."
   ]
  },
  {
   "cell_type": "code",
   "execution_count": 17,
   "metadata": {},
   "outputs": [],
   "source": [
    "# x-data\n",
    "x_data_kaggle = kaggle_data[x_features].copy()\n",
    "\n",
    "\n",
    "# y-data\n",
    "y_data_kaggle = kaggle_data[y_variable]\n",
    "\n",
    "\n",
    "# Fitting model from above to the Kaggle test data\n",
    "kaggle_predictions = model.predict(x_data_kaggle)"
   ]
  },
  {
   "cell_type": "markdown",
   "metadata": {
    "deletable": false,
    "editable": false,
    "run_control": {
     "frozen": true
    }
   },
   "source": [
    "<br>\n",
    "<h3>Creating the Kaggle File</h3><br>"
   ]
  },
  {
   "cell_type": "code",
   "execution_count": 18,
   "metadata": {},
   "outputs": [],
   "source": [
    "## Kaggle Submission File ##\n",
    "\n",
    "# organizing predictions\n",
    "model_predictions = {\"RENTALS\" : kaggle_predictions}\n",
    "\n",
    "\n",
    "# converting predictions into df\n",
    "model_pred_df = pd.DataFrame(data  = model_predictions,\n",
    "                             index = df_test.index)\n",
    "\n",
    "\n",
    "#!######################!#\n",
    "#!# name the .csv file #!#\n",
    "#!######################!#\n",
    "\n",
    "# sending predictions to .csv\n",
    "model_pred_df.to_csv(path_or_buf = \"./model_output/test_2.csv\",\n",
    "                     index       = True,\n",
    "                     index_label = 'ID')"
   ]
  },
  {
   "cell_type": "markdown",
   "metadata": {
    "deletable": false,
    "editable": false,
    "run_control": {
     "frozen": true
    }
   },
   "source": [
    "<br>"
   ]
  },
  {
   "cell_type": "markdown",
   "metadata": {
    "deletable": false,
    "editable": false,
    "run_control": {
     "frozen": true
    }
   },
   "source": [
    "<hr style=\"height:.9px;border:none;color:#333;background-color:#333;\" /><br>\n",
    "\n",
    "~~~\n",
    "\n",
    "  _    _                           __  __           _      _ _             _ \n",
    " | |  | |                         |  \\/  |         | |    | (_)           | |\n",
    " | |__| | __ _ _ __  _ __  _   _  | \\  / | ___   __| | ___| |_ _ __   __ _| |\n",
    " |  __  |/ _` | '_ \\| '_ \\| | | | | |\\/| |/ _ \\ / _` |/ _ \\ | | '_ \\ / _` | |\n",
    " | |  | | (_| | |_) | |_) | |_| | | |  | | (_) | (_| |  __/ | | | | | (_| |_|\n",
    " |_|  |_|\\__,_| .__/| .__/ \\__, | |_|  |_|\\___/ \\__,_|\\___|_|_|_| |_|\\__, (_)\n",
    "              | |   | |     __/ |                                     __/ |  \n",
    "              |_|   |_|    |___/                                     |___/   \n",
    "\n",
    "                                                            \n",
    "\n",
    "~~~\n",
    "\n",
    "<hr style=\"height:.9px;border:none;color:#333;background-color:#333;\" />"
   ]
  },
  {
   "cell_type": "markdown",
   "metadata": {
    "deletable": false,
    "editable": false,
    "run_control": {
     "frozen": true
    }
   },
   "source": [
    "<br>"
   ]
  }
 ],
 "metadata": {
  "kernelspec": {
   "display_name": "Python 3 (ipykernel)",
   "language": "python",
   "name": "python3"
  },
  "language_info": {
   "codemirror_mode": {
    "name": "ipython",
    "version": 3
   },
   "file_extension": ".py",
   "mimetype": "text/x-python",
   "name": "python",
   "nbconvert_exporter": "python",
   "pygments_lexer": "ipython3",
   "version": "3.11.5"
  },
  "toc": {
   "base_numbering": 1,
   "nav_menu": {},
   "number_sections": false,
   "sideBar": true,
   "skip_h1_title": false,
   "title_cell": "Table of Contents",
   "title_sidebar": "Contents",
   "toc_cell": false,
   "toc_position": {
    "height": "calc(100% - 180px)",
    "left": "10px",
    "top": "150px",
    "width": "288px"
   },
   "toc_section_display": true,
   "toc_window_display": false
  },
  "varInspector": {
   "cols": {
    "lenName": 16,
    "lenType": 16,
    "lenVar": 40
   },
   "kernels_config": {
    "python": {
     "delete_cmd_postfix": "",
     "delete_cmd_prefix": "del ",
     "library": "var_list.py",
     "varRefreshCmd": "print(var_dic_list())"
    },
    "r": {
     "delete_cmd_postfix": ") ",
     "delete_cmd_prefix": "rm(",
     "library": "var_list.r",
     "varRefreshCmd": "cat(var_dic_list()) "
    }
   },
   "types_to_exclude": [
    "module",
    "function",
    "builtin_function_or_method",
    "instance",
    "_Feature"
   ],
   "window_display": false
  }
 },
 "nbformat": 4,
 "nbformat_minor": 2
}
