{
 "cells": [
  {
   "cell_type": "code",
   "execution_count": 50,
   "id": "bcbe6e57",
   "metadata": {},
   "outputs": [],
   "source": [
    "import numpy as np\n",
    "import pandas as pd\n",
    "import re\n",
    "from sklearn.model_selection import train_test_split\n",
    "from sklearn.tree import DecisionTreeRegressor\n",
    "from sklearn.metrics import mean_squared_error\n",
    "from math import sqrt\n",
    "\n",
    "# Configurar las opciones de visualización de pandas (opcional)\n",
    "pd.set_option('display.max_rows', 500)\n",
    "pd.set_option('display.max_columns', 500)\n",
    "pd.set_option('display.width', 1000)\n",
    "\n",
    "# Función para limpiar columnas numéricas\n",
    "def clean_numeric_column(column):\n",
    "    column_as_str = column.astype(str).str.replace(',', '').str.replace('$', '').str.strip()\n",
    "    return pd.to_numeric(column_as_str, errors='coerce')\n",
    "\n",
    "\n",
    "# Cargar los conjuntos de datos\n",
    "ruta_train = 'C:/Users/Marcio Pineda/Documents/Archivos Python/datasets/traincase.csv'\n",
    "ruta_test = 'C:/Users/Marcio Pineda/Documents/Archivos Python/datasets/testcase.csv'\n",
    "df_train = pd.read_csv(ruta_train)\n",
    "df_test = pd.read_csv(ruta_test)\n",
    "\n",
    "# Asegurarse de que 'Match Type' esté presente en los conjuntos de datos\n",
    "assert 'Match Type' in df_train.columns, \"La columna 'Match Type' no está presente en el conjunto de entrenamiento.\"\n",
    "assert 'Match Type' in df_test.columns, \"La columna 'Match Type' no está presente en el conjunto de prueba.\"\n",
    "\n",
    "# Marcar los conjuntos de datos para poder distinguirlos después de la concatenación\n",
    "df_train['set'] = 'Not Kaggle'\n",
    "df_test['set'] = 'Kaggle'\n",
    "\n",
    "# Concatenar df_train y df_test en df_full\n",
    "df_full = pd.concat([df_train, df_test], ignore_index=True)\n",
    "\n",
    "# Aplicar la función de limpieza a las columnas numéricas relevantes en df_full\n",
    "columns_to_clean = ['Search Engine Bid', 'Impressions', 'Avg. Cost per Click', 'Avg. Pos.', 'Clicks']\n",
    "for column in columns_to_clean:\n",
    "    df_full[column] = clean_numeric_column(df_full[column])\n",
    "\n",
    "\n"
   ]
  },
  {
   "cell_type": "code",
   "execution_count": 51,
   "id": "bea93439",
   "metadata": {},
   "outputs": [
    {
     "name": "stdout",
     "output_type": "stream",
     "text": [
      "RMSE del Árbol de Decisión: 1699.2864795797498\n"
     ]
    }
   ],
   "source": [
    "# Realizar One-Hot Encoding para 'Match Type' y cualquier otra variable categórica necesaria\n",
    "df_full['Match Type'].fillna('Unknown', inplace=True)\n",
    "categorical_cols = ['Match Type']\n",
    "df_full = pd.get_dummies(df_full, columns=categorical_cols)\n",
    "\n",
    "# Llenar los NaNs restantes en las columnas numéricas con el método forward fill\n",
    "df_full.fillna(method='ffill', inplace=True)\n",
    "\n",
    "# Separación en características y objetivo, seguido por la división en entrenamiento y prueba\n",
    "features_columns = ['Search Engine Bid', 'Impressions', 'Avg. Cost per Click', 'Avg. Pos.'] + \\\n",
    "                   [col for col in df_full.columns if col.startswith('Match Type_')]\n",
    "features = df_full[df_full['set'] == 'Not Kaggle'][features_columns]\n",
    "target = df_full[df_full['set'] == 'Not Kaggle']['Clicks']\n",
    "\n",
    "# Dividir en conjuntos de entrenamiento y prueba\n",
    "X_train, X_test, y_train, y_test = train_test_split(features, target, test_size=0.2, random_state=42)\n",
    "\n",
    "# Entrenar un árbol de decisión\n",
    "tree_model = DecisionTreeRegressor(random_state=42)\n",
    "tree_model.fit(X_train, y_train)\n",
    "\n",
    "# Evaluar el modelo\n",
    "y_pred_tree = tree_model.predict(X_test)\n",
    "rmse_tree = sqrt(mean_squared_error(y_test, y_pred_tree))\n",
    "print(f\"RMSE del Árbol de Decisión: {rmse_tree}\")\n"
   ]
  },
  {
   "cell_type": "code",
   "execution_count": 43,
   "id": "78f54476",
   "metadata": {},
   "outputs": [
    {
     "name": "stdout",
     "output_type": "stream",
     "text": [
      "Mejores hiperparámetros encontrados mediante Randomized Search: {'max_depth': 20, 'min_samples_leaf': 1, 'min_samples_split': 9}\n",
      "RMSE del mejor modelo de Árbol de Decisión obtenido mediante Randomized Search: 1383.420307755057\n"
     ]
    }
   ],
   "source": [
    "from sklearn.model_selection import RandomizedSearchCV\n",
    "from scipy.stats import randint\n",
    "\n",
    "# Definir los rangos de los hiperparámetros para muestrear\n",
    "param_dist = {\n",
    "    'max_depth': [None, 10, 20, 30],\n",
    "    'min_samples_split': randint(2, 20),\n",
    "    'min_samples_leaf': randint(1, 10)\n",
    "}\n",
    "\n",
    "# Inicializar RandomizedSearchCV\n",
    "random_search = RandomizedSearchCV(estimator=tree_model, param_distributions=param_dist, n_iter=100, cv=5, scoring='neg_mean_squared_error', random_state=42)\n",
    "\n",
    "# Realizar la búsqueda aleatoria\n",
    "random_search.fit(X_train, y_train)\n",
    "\n",
    "# Obtener los mejores hiperparámetros\n",
    "best_params_random = random_search.best_params_\n",
    "print(\"Mejores hiperparámetros encontrados mediante Randomized Search:\", best_params_random)\n",
    "\n",
    "# Obtener el mejor modelo\n",
    "best_tree_model_random = random_search.best_estimator_\n",
    "\n",
    "# Evaluar el mejor modelo\n",
    "y_pred_best_random = best_tree_model_random.predict(X_test)\n",
    "rmse_best_random = sqrt(mean_squared_error(y_test, y_pred_best_random))\n",
    "print(f\"RMSE del mejor modelo de Árbol de Decisión obtenido mediante Randomized Search: {rmse_best_random}\")\n"
   ]
  },
  {
   "cell_type": "code",
   "execution_count": 44,
   "id": "24dffc85",
   "metadata": {},
   "outputs": [
    {
     "name": "stdout",
     "output_type": "stream",
     "text": [
      "RMSE del Árbol de Decisión después de Grid Search: 1380.7290550487703\n",
      "Mejores parámetros encontrados: {'max_depth': 10, 'min_samples_leaf': 1, 'min_samples_split': 10}\n"
     ]
    }
   ],
   "source": [
    "from sklearn.model_selection import GridSearchCV\n",
    "\n",
    "# Definir los parámetros para buscar\n",
    "param_grid = {\n",
    "    'max_depth': [None, 10, 20, 30],\n",
    "    'min_samples_split': [2, 5, 10],\n",
    "    'min_samples_leaf': [1, 2, 4]\n",
    "}\n",
    "grid_search = GridSearchCV(estimator=DecisionTreeRegressor(random_state=42), param_grid=param_grid, cv=5, scoring='neg_root_mean_squared_error')\n",
    "grid_search.fit(X_train, y_train)\n",
    "best_tree_model = grid_search.best_estimator_\n",
    "y_pred_grid = best_tree_model.predict(X_test)\n",
    "rmse_grid = sqrt(mean_squared_error(y_test, y_pred_grid))\n",
    "print(f\"RMSE del Árbol de Decisión después de Grid Search: {rmse_grid}\")\n",
    "print(\"Mejores parámetros encontrados:\", grid_search.best_params_)\n"
   ]
  },
  {
   "cell_type": "code",
   "execution_count": 53,
   "id": "b27a14e9",
   "metadata": {
    "scrolled": true
   },
   "outputs": [
    {
     "name": "stdout",
     "output_type": "stream",
     "text": [
      "RMSE de Random Forest: 1220.4306512608287\n",
      "RMSE de Gradient Boosting: 1428.87882421522\n",
      "RMSE de Support Vector Regression: 923.0681355297471\n"
     ]
    }
   ],
   "source": [
    "from sklearn.ensemble import RandomForestRegressor, GradientBoostingRegressor\n",
    "from sklearn.svm import SVR\n",
    "\n",
    "\n",
    "models = {\n",
    "    'Random Forest': RandomForestRegressor(random_state=42),\n",
    "    'Gradient Boosting': GradientBoostingRegressor(random_state=42),\n",
    "    'Support Vector Regression': SVR()\n",
    "}\n",
    "\n",
    "for name, model in models.items():\n",
    "    model.fit(X_train, y_train)\n",
    "    y_pred = model.predict(X_test)\n",
    "    rmse = sqrt(mean_squared_error(y_test, y_pred))\n",
    "    print(f\"RMSE de {name}: {rmse}\")"
   ]
  },
  {
   "cell_type": "code",
   "execution_count": 52,
   "id": "335ee71c",
   "metadata": {},
   "outputs": [
    {
     "name": "stdout",
     "output_type": "stream",
     "text": [
      "Fitting 5 folds for each of 81 candidates, totalling 405 fits\n"
     ]
    }
   ],
   "source": [
    "# Definición y ajuste del modelo mediante GridSearchCV\n",
    "\n",
    "model = RandomForestRegressor(random_state=42)\n",
    "param_grid = {\n",
    "    'n_estimators': [100, 200, 300],\n",
    "    'max_depth': [None, 10, 20],\n",
    "    'min_samples_split': [2, 5, 10],\n",
    "    'min_samples_leaf': [1, 2, 4]\n",
    "}\n",
    "grid_search = GridSearchCV(estimator=model, param_grid=param_grid, cv=5,\n",
    "                           scoring='neg_root_mean_squared_error', verbose=2, n_jobs=-1)\n",
    "grid_search.fit(X_train, y_train)\n",
    "\n",
    "# Obtención de los mejores hiperparámetros y el mejor modelo\n",
    "best_params = grid_search.best_params_\n",
    "best_model = grid_search.best_estimator_\n",
    "\n",
    "# Preparación del conjunto de datos de prueba para predicciones finales\n",
    "df_test_processed = df_full[df_full['set'] == 'Kaggle'][features_columns]\n",
    "\n",
    "# Generación de predicciones finales para el conjunto de datos de prueba\n",
    "y_pred_test = best_model.predict(df_test_processed)"
   ]
  },
  {
   "cell_type": "code",
   "execution_count": 54,
   "id": "073d71e3",
   "metadata": {},
   "outputs": [
    {
     "name": "stdout",
     "output_type": "stream",
     "text": [
      "RMSE promedio de la validación cruzada: 743.7941138905937\n",
      "Desviación estándar del RMSE de la validación cruzada: 314.72947669398854\n"
     ]
    }
   ],
   "source": [
    "from sklearn.model_selection import cross_val_score\n",
    "\n",
    "# Definir el modelo con los mejores hiperparámetros encontrados\n",
    "best_model = RandomForestRegressor(max_depth=10, min_samples_leaf=2, min_samples_split=10, n_estimators=100, random_state=42)\n",
    "\n",
    "# Realizar validación cruzada\n",
    "cv_scores = cross_val_score(best_model, X_train, y_train, cv=5, scoring='neg_root_mean_squared_error')\n",
    "\n",
    "# Calcular el RMSE promedio y la desviación estándar de los puntajes\n",
    "avg_rmse = -cv_scores.mean()\n",
    "std_rmse = cv_scores.std()\n",
    "\n",
    "print(f\"RMSE promedio de la validación cruzada: {avg_rmse}\")\n",
    "print(f\"Desviación estándar del RMSE de la validación cruzada: {std_rmse}\")\n"
   ]
  },
  {
   "cell_type": "code",
   "execution_count": null,
   "id": "29d6fde3",
   "metadata": {},
   "outputs": [
    {
     "name": "stdout",
     "output_type": "stream",
     "text": [
      "Fitting 5 folds for each of 200 candidates, totalling 1000 fits\n"
     ]
    }
   ],
   "source": [
    "from sklearn.ensemble import RandomForestRegressor\n",
    "from sklearn.model_selection import RandomizedSearchCV\n",
    "from scipy.stats import randint\n",
    "\n",
    "# Definir el modelo de regresión\n",
    "model = RandomForestRegressor(random_state=42)\n",
    "\n",
    "# Extiende el rango de hiperparámetros\n",
    "param_dist_extended = {\n",
    "    'max_depth': [None, 10, 20, 30, 40],\n",
    "    'min_samples_split': randint(2, 15),\n",
    "    'min_samples_leaf': randint(1, 10),\n",
    "    'n_estimators': randint(100, 500)  # Aumentando el rango para n_estimators\n",
    "}\n",
    "\n",
    "# Inicializa RandomizedSearchCV con un número mayor de iteraciones\n",
    "random_search_extended = RandomizedSearchCV(estimator=model, param_distributions=param_dist_extended,\n",
    "                                             n_iter=200, cv=5, scoring='neg_mean_squared_error',\n",
    "                                             random_state=42, verbose=2, n_jobs=-1)\n",
    "\n",
    "random_search_extended.fit(X_train, y_train)\n",
    "\n",
    "# Mejor modelo y parámetros\n",
    "best_model_extended = random_search_extended.best_estimator_\n",
    "print(\"Mejores hiperparámetros:\", random_search_extended.best_params_) \n",
    "\n"
   ]
  },
  {
   "cell_type": "code",
   "execution_count": null,
   "id": "207db715",
   "metadata": {},
   "outputs": [],
   "source": []
  },
  {
   "cell_type": "code",
   "execution_count": 56,
   "id": "5194006b",
   "metadata": {},
   "outputs": [],
   "source": [
    "# Creación del DataFrame de submission\n",
    "submission = pd.DataFrame({\n",
    "    'entry_id': df_test['entry_id'],  # Asegúrate de que df_test tenga 'entry_id'\n",
    "    'Clicks': y_pred_test\n",
    "})\n",
    "\n",
    "# Exportación del DataFrame de submission a un archivo CSV\n",
    "submission_filename = 'decision_tree_kaggle_submission_updated1.csv'\n",
    "submission.to_csv(submission_filename, index=False)\n",
    "\n"
   ]
  },
  {
   "cell_type": "code",
   "execution_count": null,
   "id": "f928d911",
   "metadata": {},
   "outputs": [],
   "source": []
  }
 ],
 "metadata": {
  "kernelspec": {
   "display_name": "Python 3 (ipykernel)",
   "language": "python",
   "name": "python3"
  },
  "language_info": {
   "codemirror_mode": {
    "name": "ipython",
    "version": 3
   },
   "file_extension": ".py",
   "mimetype": "text/x-python",
   "name": "python",
   "nbconvert_exporter": "python",
   "pygments_lexer": "ipython3",
   "version": "3.11.5"
  }
 },
 "nbformat": 4,
 "nbformat_minor": 5
}
