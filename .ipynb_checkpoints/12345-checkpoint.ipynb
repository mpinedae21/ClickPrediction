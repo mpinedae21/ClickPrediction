{
 "cells": [
  {
   "cell_type": "code",
   "execution_count": 15,
   "id": "1da56a26",
   "metadata": {
    "scrolled": true
   },
   "outputs": [
    {
     "name": "stderr",
     "output_type": "stream",
     "text": [
      "C:\\Users\\Marcio Pineda\\Documents\\Python\\Lib\\site-packages\\sklearn\\linear_model\\_coordinate_descent.py:678: ConvergenceWarning: Objective did not converge. You might want to increase the number of iterations, check the scale of the features or consider increasing regularisation. Duality gap: 4.535e+08, tolerance: 3.574e+05\n",
      "  model = cd_fast.enet_coordinate_descent(\n",
      "C:\\Users\\Marcio Pineda\\Documents\\Python\\Lib\\site-packages\\sklearn\\linear_model\\_coordinate_descent.py:678: ConvergenceWarning: Objective did not converge. You might want to increase the number of iterations, check the scale of the features or consider increasing regularisation. Duality gap: 1.432e+07, tolerance: 2.630e+05\n",
      "  model = cd_fast.enet_coordinate_descent(\n"
     ]
    },
    {
     "name": "stdout",
     "output_type": "stream",
     "text": [
      "Lasso CV RMSE: 1003.6780755668896\n",
      "Lasso Validation RMSE: 2363.35520979625\n",
      "Ridge CV RMSE: 1003.705268703985\n",
      "Ridge Validation RMSE: 2363.284479968986\n",
      "Random Forest CV RMSE: 744.6274038632181\n",
      "Random Forest Validation RMSE: 993.5575819525551\n",
      "Gradient Boosting CV RMSE: 938.9119927630569\n",
      "Gradient Boosting Validation RMSE: 997.5700009870976\n"
     ]
    }
   ],
   "source": [
    "import pandas as pd\n",
    "from sklearn.impute import SimpleImputer\n",
    "from sklearn.preprocessing import PolynomialFeatures\n",
    "from sklearn.model_selection import train_test_split, cross_val_score\n",
    "from sklearn.linear_model import Lasso, Ridge\n",
    "from sklearn.ensemble import RandomForestRegressor, GradientBoostingRegressor\n",
    "from sklearn.metrics import mean_squared_error\n",
    "import numpy as np\n",
    "\n",
    "# Cargar los conjuntos de datos\n",
    "ruta_train = 'C:/Users/Marcio Pineda/Documents/Archivos Python/datasets/traincase.csv'\n",
    "ruta_test = 'C:/Users/Marcio Pineda/Documents/Archivos Python/datasets/testcase.csv'\n",
    "df_train = pd.read_csv(ruta_train)\n",
    "df_test = pd.read_csv(ruta_test)\n",
    "\n",
    "# Preprocesamiento de las columnas numéricas\n",
    "def preprocess_numeric(df):\n",
    "    for col in ['Search Engine Bid', 'Avg. Pos.', 'Impressions']:\n",
    "        # Asegurar la correcta conversión de tipos de datos\n",
    "        df[col] = df[col].astype(str).str.replace('$', '').str.replace(',', '').str.strip().replace('', np.nan)\n",
    "        df[col] = pd.to_numeric(df[col], errors='coerce')\n",
    "    return df\n",
    "\n",
    "df_train = preprocess_numeric(df_train)\n",
    "df_test = preprocess_numeric(df_test)\n",
    "\n",
    "# Imputar los valores faltantes después de la conversión\n",
    "imputer = SimpleImputer(strategy='median')\n",
    "cols_to_impute = ['Impressions', 'Search Engine Bid', 'Avg. Pos.']\n",
    "\n",
    "df_train[cols_to_impute] = imputer.fit_transform(df_train[cols_to_impute])\n",
    "df_test[cols_to_impute] = imputer.transform(df_test[cols_to_impute])\n",
    "\n",
    "# Creación de características polinómicas\n",
    "poly_features = PolynomialFeatures(degree=2, interaction_only=True, include_bias=False)\n",
    "X_poly = poly_features.fit_transform(df_train[['Search Engine Bid', 'Impressions', 'Avg. Pos.']])\n",
    "X_test_poly = poly_features.transform(df_test[['Search Engine Bid', 'Impressions', 'Avg. Pos.']])\n",
    "\n",
    "# Separación de la variable objetivo\n",
    "y = df_train['Clicks'].str.replace(',', '').astype(float)  # Limpiar la columna 'Clicks' y convertir a float\n",
    "\n",
    "X_train, X_valid, y_train, y_valid = train_test_split(X_poly, y, test_size=0.2, random_state=42)\n",
    "\n",
    "# Definición y entrenamiento de modelos\n",
    "models = {\n",
    "    'Lasso': Lasso(alpha=0.1),\n",
    "    'Ridge': Ridge(alpha=0.1),\n",
    "    'Random Forest': RandomForestRegressor(n_estimators=100, random_state=42),\n",
    "    'Gradient Boosting': GradientBoostingRegressor(n_estimators=100, random_state=42)\n",
    "}\n",
    "\n",
    "for name, model in models.items():\n",
    "    model.fit(X_train, y_train)\n",
    "    cv_score = cross_val_score(model, X_train, y_train, cv=5, scoring='neg_mean_squared_error')\n",
    "    print(f'{name} CV RMSE:', np.sqrt(-cv_score.mean()))\n",
    "    \n",
    "    # Evaluación en el conjunto de validación\n",
    "    valid_preds = model.predict(X_valid)\n",
    "    valid_rmse = np.sqrt(mean_squared_error(y_valid, valid_preds))\n",
    "    print(f'{name} Validation RMSE:', valid_rmse)\n",
    "\n",
    "\n",
    "\n"
   ]
  },
  {
   "cell_type": "code",
   "execution_count": null,
   "id": "ae8cd9a9",
   "metadata": {},
   "outputs": [],
   "source": [
    "from sklearn.model_selection import RandomizedSearchCV\n",
    "from sklearn.decomposition import PCA\n",
    "\n",
    "# Ajuste de Hiperparámetros con RandomizedSearchCV\n",
    "# Random Forest\n",
    "param_distributions_rf = {\n",
    "    'n_estimators': [100, 200],  # Reducido para demostración\n",
    "    'max_depth': [None, 10],\n",
    "    'min_samples_split': [2, 5],\n",
    "    'min_samples_leaf': [1, 2]\n",
    "}\n",
    "random_search_rf = RandomizedSearchCV(RandomForestRegressor(random_state=42), param_distributions=param_distributions_rf, \n",
    "                                      n_iter=10, cv=5, scoring='neg_mean_squared_error', n_jobs=-1, random_state=42)\n",
    "random_search_rf.fit(X_train_pca, y_train)  # Asegúrate de usar X_train_pca\n",
    "\n",
    "# Lasso y Ridge\n",
    "param_distributions_lr = {'alpha': [0.01, 0.1, 1, 10]}\n",
    "random_search_lr = RandomizedSearchCV(Lasso(random_state=42), param_distributions=param_distributions_lr, \n",
    "                                       n_iter=4, cv=5, scoring='neg_mean_squared_error', n_jobs=-1, random_state=42)\n",
    "random_search_lr.fit(X_train_pca, y_train)\n",
    "\n",
    "random_search_rr = RandomizedSearchCV(Ridge(random_state=42), param_distributions=param_distributions_lr, \n",
    "                                       n_iter=4, cv=5, scoring='neg_mean_squared_error', n_jobs=-1, random_state=42)\n",
    "random_search_rr.fit(X_train_pca, y_train)\n",
    "\n",
    "# Reducción de Dimensionalidad con PCA\n",
    "pca = PCA(n_components=0.95)\n",
    "X_train_pca = pca.fit_transform(X_train)\n",
    "X_valid_pca = pca.transform(X_valid)\n",
    "\n",
    "# Usando el mejor modelo de Random Forest para evaluar la importancia de las características\n",
    "best_rf_model = random_search_rf.best_estimator_\n",
    "feature_importances = best_rf_model.feature_importances_"
   ]
  },
  {
   "cell_type": "code",
   "execution_count": null,
   "id": "16704227",
   "metadata": {},
   "outputs": [],
   "source": []
  }
 ],
 "metadata": {
  "kernelspec": {
   "display_name": "Python 3 (ipykernel)",
   "language": "python",
   "name": "python3"
  },
  "language_info": {
   "codemirror_mode": {
    "name": "ipython",
    "version": 3
   },
   "file_extension": ".py",
   "mimetype": "text/x-python",
   "name": "python",
   "nbconvert_exporter": "python",
   "pygments_lexer": "ipython3",
   "version": "3.11.5"
  }
 },
 "nbformat": 4,
 "nbformat_minor": 5
}
