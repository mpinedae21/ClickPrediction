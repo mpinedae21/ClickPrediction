{
 "cells": [
  {
   "cell_type": "code",
   "execution_count": 28,
   "id": "77a6a608",
   "metadata": {},
   "outputs": [
    {
     "name": "stdout",
     "output_type": "stream",
     "text": [
      "                           DateHour  Temperature(F)  Humidity(%)  Wind speed (mph)  Visibility(miles)  DewPointTemperature(F)  Rainfall(in)  Snowfall(in)  SolarRadiation(MJ/m2) Holiday FunctioningDay  RENTALS         set\n",
      "ID                                                                                                                                                                                                                          \n",
      "mb_1039  2023-10-14 05:59:54.810000              52           81               0.4                2.9                    46.4           0.0           0.0                   0.00      No            Yes    519.0  Not Kaggle\n",
      "mb_1330  2023-10-26 08:59:53.355000              51           53               2.2                NaN                    35.2           0.0           0.0                   1.01      No            Yes   1251.0  Not Kaggle\n",
      "mb_551   2023-09-23 21:59:57.250000              56           49               2.5                3.4                    38.8           0.0           0.0                   0.00      No            Yes   1685.0  Not Kaggle\n",
      "mb_2103         2023-12-19 14:00:00              69           32               9.8               12.4                    38.7           0.0           0.0                   2.36      No             No      0.0  Not Kaggle\n",
      "mb_1430  2023-10-30 12:59:52.855000              53           20               2.9               10.8                    12.9           0.0           0.0                   1.96      No            Yes    814.0  Not Kaggle\n"
     ]
    }
   ],
   "source": [
    "## importing libraries ##\n",
    "\n",
    "# Essentials\n",
    "import numpy as np\n",
    "import pandas as pd\n",
    "from sklearn.model_selection import train_test_split\n",
    "from sklearn.tree import DecisionTreeRegressor  # Assuming the task is regression\n",
    "from sklearn.metrics import mean_squared_error, r2_score  # For model evaluation\n",
    "\n",
    "# Setting pandas print options (optional but useful for large dataframes)\n",
    "pd.set_option('display.max_rows', 500)\n",
    "pd.set_option('display.max_columns', 500)\n",
    "pd.set_option('display.width', 1000)\n",
    "\n",
    "## importing data ##\n",
    "\n",
    "file_path = './datasets/chicago_training_data.xlsx'\n",
    "\n",
    "# Reading training data into Python\n",
    "modeling_data = './datasets/train.xlsx'\n",
    "df_train = pd.read_excel(io=modeling_data, sheet_name='data', header=0, index_col='ID')\n",
    "\n",
    "# Reading testing data into Python\n",
    "testing_data = './datasets/test.xlsx'\n",
    "df_test = pd.read_excel(io=testing_data, sheet_name='data', header=0, index_col='ID')\n",
    "\n",
    "# Concatenating datasets together for missing value analysis and feature engineering\n",
    "df_train['set'] = 'Not Kaggle'\n",
    "df_test['set'] = 'Kaggle'\n",
    "\n",
    "# Concatenating both datasets together for MV analysis and feature engineering\n",
    "df_full = pd.concat(objs=[df_train, df_test], axis=0, ignore_index=False)\n",
    "\n",
    "# Checking the concatenated data\n",
    "print(df_full.head(n=5))"
   ]
  },
  {
   "cell_type": "code",
   "execution_count": 29,
   "id": "4e4fa7b0",
   "metadata": {},
   "outputs": [
    {
     "name": "stdout",
     "output_type": "stream",
     "text": [
      "Correlaciones con RENTALS:\n",
      " RENTALS                   1.000000\n",
      "Temperature(F)            0.322811\n",
      "SolarRadiation(MJ/m2)     0.207526\n",
      "Wind speed (mph)          0.186261\n",
      "DewPointTemperature(F)    0.030903\n",
      "Visibility(miles)         0.004390\n",
      "Snowfall(in)             -0.086884\n",
      "Rainfall(in)             -0.145802\n",
      "Humidity(%)              -0.395309\n",
      "Name: RENTALS, dtype: float64\n"
     ]
    }
   ],
   "source": [
    "# Seleccionar solo columnas numéricas para el cálculo de la matriz de correlación\n",
    "numeric_cols = df_train.select_dtypes(include=['float64', 'int64'])\n",
    "\n",
    "# Calcular la matriz de correlación solo para columnas numéricas\n",
    "correlation_matrix = numeric_cols.corr()\n",
    "\n",
    "# Mostrar la correlación con 'RENTALS'\n",
    "correlations_with_rentals = correlation_matrix['RENTALS'].sort_values(ascending=False)\n",
    "print(\"Correlaciones con RENTALS:\\n\", correlations_with_rentals)"
   ]
  },
  {
   "cell_type": "code",
   "execution_count": 23,
   "id": "9e50a9e4",
   "metadata": {},
   "outputs": [
    {
     "data": {
      "text/plain": [
       "Index(['DateHour', 'Temperature(F)', 'Humidity(%)', 'Wind speed (mph)', 'Visibility(miles)', 'DewPointTemperature(F)', 'Rainfall(in)', 'Snowfall(in)', 'SolarRadiation(MJ/m2)', 'Holiday', 'FunctioningDay', 'RENTALS', 'set'], dtype='object')"
      ]
     },
     "execution_count": 23,
     "metadata": {},
     "output_type": "execute_result"
    }
   ],
   "source": [
    "# checking available features\n",
    "df_full.columns"
   ]
  },
  {
   "cell_type": "code",
   "execution_count": 30,
   "id": "ab2b980f",
   "metadata": {},
   "outputs": [],
   "source": [
    "# 1. Manejo de valores faltantes\n",
    "df_full['Visibility(miles)'] = df_full['Visibility(miles)'].fillna(df_full['Visibility(miles)'].median())\n",
    "\n",
    "df_full['DateHour'] = pd.to_datetime(df_full['DateHour'], errors='coerce')\n",
    "\n",
    "# 2. Codificación de variables categóricas\n",
    "df_full['Holiday'] = df_full['Holiday'].map({'No': 0, 'Yes': 1})\n",
    "df_full['FunctioningDay'] = df_full['FunctioningDay'].map({'No': 0, 'Yes': 1})\n",
    "\n",
    "# 3. Ingeniería de características con `DateHour`\n",
    "df_full['DateHour'] = pd.to_datetime(df_full['DateHour'])\n",
    "df_full['Hour'] = df_full['DateHour'].dt.hour\n",
    "df_full['DayOfWeek'] = df_full['DateHour'].dt.dayofweek  # Monday=0, Sunday=6\n",
    "df_full['Month'] = df_full['DateHour'].dt.month\n",
    "\n",
    "\n",
    "\n"
   ]
  },
  {
   "cell_type": "code",
   "execution_count": 31,
   "id": "9d1c8d3b",
   "metadata": {},
   "outputs": [],
   "source": [
    "import numpy as np\n",
    "\n",
    "# Asumiendo df_train es tu conjunto de datos de entrenamiento y estas columnas existen y son positivas.\n",
    "# Si hay valores cero, considera sumar 1 para evitar el logaritmo de cero.\n",
    "df_train['Wind speed (mph)'] = np.log(df_train['Wind speed (mph)'] + 1)\n",
    "df_train['SolarRadiation(MJ/m2)'] = np.log(df_train['SolarRadiation(MJ/m2)'] + 1)\n",
    "df_train['Humidity(%)_log'] = np.log(df_train['Humidity(%)'] + 1)"
   ]
  },
  {
   "cell_type": "code",
   "execution_count": 36,
   "id": "83f1e46e",
   "metadata": {},
   "outputs": [],
   "source": [
    "# Asegurarse de que 'DateHour' se ha convertido correctamente a datetime\n",
    "df_train['DateHour'] = pd.to_datetime(df_train['DateHour'], errors='coerce')\n",
    "\n",
    "# Extraer 'Hour' y 'DayOfWeek' de 'DateHour'\n",
    "df_train['Hour'] = df_train['DateHour'].dt.hour\n",
    "df_train['DayOfWeek'] = df_train['DateHour'].dt.dayofweek  # Añadiendo esta línea para extraer el día de la semana\n",
    "\n",
    "# Ahora que 'DayOfWeek' ha sido extraído, crear la variable binaria para fin de semana\n",
    "df_train['Weekend'] = df_train['DayOfWeek'].apply(lambda x: 1 if x >= 5 else 0)\n",
    "\n",
    "# Crear variables binarias para momentos del día, asegurándose de que 'Hour' y 'DayOfWeek' existen\n",
    "df_train['Morning'] = df_train['Hour'].apply(lambda x: 1 if 5 <= x < 12 else 0)\n",
    "df_train['Afternoon'] = df_train['Hour'].apply(lambda x: 1 if 12 <= x < 17 else 0)\n",
    "df_train['Evening'] = df_train['Hour'].apply(lambda x: 1 if 17 <= x < 21 else 0)\n",
    "df_train['Night'] = df_train['Hour'].apply(lambda x: 1 if 21 <= x or x < 5 else 0)\n",
    "\n"
   ]
  },
  {
   "cell_type": "code",
   "execution_count": 33,
   "id": "ac14303c",
   "metadata": {},
   "outputs": [],
   "source": [
    "# Interacciones\n",
    "df_train['Temp*Wind'] = df_train['Temperature(F)'] * df_train['Wind speed (mph)']\n",
    "df_train['Temp*Solar'] = df_train['Temperature(F)'] * df_train['SolarRadiation(MJ/m2)']\n"
   ]
  },
  {
   "cell_type": "code",
   "execution_count": 34,
   "id": "7aa063c9",
   "metadata": {},
   "outputs": [],
   "source": [
    "from sklearn.preprocessing import StandardScaler\n",
    "\n",
    "# Seleccionar solo columnas numéricas para la estandarización\n",
    "numeric_cols = df_train.select_dtypes(include=['float64', 'int64']).columns\n",
    "df_numeric = df_train[numeric_cols]\n",
    "\n",
    "# Asegúrate de excluir la variable objetivo 'RENTALS' si está en df_train\n",
    "X = df_numeric.drop(['RENTALS'], axis=1)\n",
    "y = df_train['RENTALS']\n",
    "\n",
    "# Dividir los datos en conjuntos de entrenamiento y validación\n",
    "X_train, X_val, y_train, y_val = train_test_split(X, y, test_size=0.2, random_state=42)\n",
    "\n",
    "# Aplicar estandarización solo a las columnas numéricas\n",
    "scaler = StandardScaler()\n",
    "X_train_scaled = scaler.fit_transform(X_train)\n",
    "X_val_scaled = scaler.transform(X_val)\n",
    "\n",
    "# Transformar de vuelta a DataFrame para conservar los nombres de las columnas\n",
    "X_train_scaled = pd.DataFrame(X_train_scaled, columns=X_train.columns)\n",
    "X_val_scaled = pd.DataFrame(X_val_scaled, columns=X_val.columns)"
   ]
  },
  {
   "cell_type": "code",
   "execution_count": 38,
   "id": "9f41162c",
   "metadata": {
    "scrolled": true
   },
   "outputs": [
    {
     "name": "stdout",
     "output_type": "stream",
     "text": [
      "                   feature         VIF\n",
      "0           Temperature(F)  318.654394\n",
      "1              Humidity(%)  153.690839\n",
      "2         Wind speed (mph)  215.856682\n",
      "3        Visibility(miles)    9.681891\n",
      "4   DewPointTemperature(F)  134.348392\n",
      "5             Rainfall(in)    1.181797\n",
      "6             Snowfall(in)    1.147178\n",
      "7    SolarRadiation(MJ/m2)   51.763483\n",
      "8          Humidity(%)_log  457.743416\n",
      "9                Temp*Wind  237.973032\n",
      "10              Temp*Solar   56.279875\n",
      "11                    Hour    7.887358\n",
      "12                 Morning    2.350591\n",
      "13               Afternoon    2.076052\n",
      "14                 Evening    2.007600\n",
      "15                   Night    2.465994\n",
      "16               DayOfWeek   11.549753\n",
      "17                 Weekend    3.703698\n"
     ]
    }
   ],
   "source": [
    "# Eliminar valores infinitos si los hay\n",
    "variables.replace([np.inf, -np.inf], np.nan, inplace=True)\n",
    "\n",
    "# Imputar los valores NaNs con la mediana de cada columna\n",
    "variables = variables.fillna(variables.median())\n",
    "\n",
    "# Ahora calcular el VIF nuevamente\n",
    "vif_data = pd.DataFrame()\n",
    "vif_data[\"feature\"] = variables.columns\n",
    "vif_data[\"VIF\"] = [variance_inflation_factor(variables.values, i) for i in range(len(variables.columns))]\n",
    "\n",
    "print(vif_data)\n"
   ]
  },
  {
   "cell_type": "code",
   "execution_count": 41,
   "id": "dbf00812",
   "metadata": {},
   "outputs": [],
   "source": [
    "# Eliminar variables con VIF muy alto\n",
    "variables = variables.drop(['Temperature(F)', 'Humidity(%)', 'Wind speed (mph)', 'DewPointTemperature(F)', 'Humidity(%)_log'], axis=1)\n"
   ]
  },
  {
   "cell_type": "code",
   "execution_count": 44,
   "id": "4a265c8f",
   "metadata": {},
   "outputs": [
    {
     "data": {
      "image/png": "[encoded data removed]",
      "text/plain": [
       "<Figure size 1200x600 with 2 Axes>"
      ]
     },
     "metadata": {},
     "output_type": "display_data"
    }
   ],
   "source": [
    "import seaborn as sns\n",
    "import matplotlib.pyplot as plt\n",
    "\n",
    "# Visualizar la distribución de las variables\n",
    "plt.figure(figsize=(12, 6))\n",
    "plt.subplot(1, 2, 1)\n",
    "sns.histplot(df_train['Wind speed (mph)'], kde=True)\n",
    "plt.title('Distribución de Wind speed (mph)')\n",
    "\n",
    "plt.subplot(1, 2, 2)\n",
    "sns.histplot(df_train['SolarRadiation(MJ/m2)'], kde=True)\n",
    "plt.title('Distribución de SolarRadiation(MJ/m2)')\n",
    "\n",
    "plt.tight_layout()\n",
    "plt.show()\n"
   ]
  },
  {
   "cell_type": "code",
   "execution_count": 53,
   "id": "ca94ccf7",
   "metadata": {},
   "outputs": [],
   "source": [
    "import numpy as np\n",
    "\n",
    "# Asegurar que todos los valores sean positivos\n",
    "df['Wind speed (mph)'] += 1\n",
    "df['SolarRadiation(MJ/m2)'] += 1\n",
    "\n",
    "# Aplicar transformación logarítmica\n",
    "df['Wind speed (mph)_log'] = np.log(df['Wind speed (mph)'])\n",
    "df['SolarRadiation(MJ/m2)_log'] = np.log(df['SolarRadiation(MJ/m2)'])\n",
    "\n",
    "# Crear la columna 'Weekend' basada en 'DayOfWeek'\n",
    "df['Weekend'] = df['DayOfWeek'].apply(lambda x: 1 if x >= 5 else 0)\n"
   ]
  },
  {
   "cell_type": "code",
   "execution_count": 50,
   "id": "e28dc53f",
   "metadata": {},
   "outputs": [
    {
     "name": "stdout",
     "output_type": "stream",
     "text": [
      "                      feature           VIF\n",
      "0           Visibility(miles)      9.666517\n",
      "1                Rainfall(in)      1.077616\n",
      "2                Snowfall(in)      1.091878\n",
      "3       SolarRadiation(MJ/m2)  18376.310674\n",
      "4                   Temp*Wind     55.655744\n",
      "5                  Temp*Solar     70.456886\n",
      "6                        Hour      7.661627\n",
      "7                     Morning      2.199365\n",
      "8                   Afternoon      2.199875\n",
      "9                     Evening      2.017920\n",
      "10                      Night      2.518268\n",
      "11                  DayOfWeek     11.490239\n",
      "12                    Weekend      3.682799\n",
      "13        Wind speed (mph)_bc   8604.925804\n",
      "14        Wind speed (mph)_yj  21020.608594\n",
      "15       Wind speed (mph)_log   1764.604020\n",
      "16  SolarRadiation(MJ/m2)_log  10919.661455\n"
     ]
    }
   ],
   "source": [
    "from statsmodels.stats.outliers_influence import variance_inflation_factor\n",
    "import pandas as pd\n",
    "\n",
    "# Eliminar valores infinitos y reemplazarlos por NaN para una imputación coherente\n",
    "variables_actualizadas.replace([np.inf, -np.inf], np.nan, inplace=True)\n",
    "\n",
    "# Opción 1: Imputar los valores NaNs con la mediana (o media) de cada columna\n",
    "for column in variables_actualizadas.columns:\n",
    "    variables_actualizadas[column].fillna(variables_actualizadas[column].median(), inplace=True)\n",
    "\n",
    "# Opción 2: Eliminar filas que contienen NaNs (utilizar con precaución, dependiendo de tu conjunto de datos)\n",
    "# variables_actualizadas.dropna(inplace=True)\n",
    "\n",
    "# Verificar que no hay más valores infinitos o NaNs\n",
    "assert not variables_actualizadas.isnull().values.any(), \"Aún hay valores NaN en el DataFrame.\"\n",
    "assert np.isfinite(variables_actualizadas).all().all(), \"Aún hay valores infinitos en el DataFrame.\"\n",
    "\n",
    "# Ahora, calcular el VIF nuevamente\n",
    "vif_data_adjusted = pd.DataFrame()\n",
    "vif_data_adjusted[\"feature\"] = variables_actualizadas.columns\n",
    "vif_data_adjusted[\"VIF\"] = [variance_inflation_factor(variables_actualizadas.values, i) for i in range(len(variables_actualizadas.columns))]\n",
    "\n",
    "print(vif_data_adjusted)\n",
    "\n",
    "\n"
   ]
  },
  {
   "cell_type": "code",
   "execution_count": 51,
   "id": "bd1fddb4",
   "metadata": {},
   "outputs": [],
   "source": [
    "# Asumiendo df_full es tu DataFrame completo que incluye tanto los datos de Kaggle como los de modelado\n",
    "\n",
    "# Separar los datos para Kaggle\n",
    "kaggle_data = df_full[df_full['set'] == 'Kaggle'].copy()\n",
    "\n",
    "# Datos para la construcción del modelo\n",
    "df = df_full[df_full['set'] == 'Not Kaggle'].copy()\n",
    "\n",
    "# Eliminar el identificador 'set'\n",
    "kaggle_data.drop(labels='set', axis=1, inplace=True)\n",
    "df.drop(labels='set', axis=1, inplace=True)\n"
   ]
  },
  {
   "cell_type": "code",
   "execution_count": 55,
   "id": "88eaf6bb",
   "metadata": {},
   "outputs": [
    {
     "name": "stdout",
     "output_type": "stream",
     "text": [
      "\n",
      "Original Dataset Dimensions\n",
      "---------------------------\n",
      "Observations (Rows): 1638\n",
      "Features  (Columns): 18\n",
      "\n",
      "Training Data (X-side)\n",
      "----------------------\n",
      "Observations (Rows): 794\n",
      "Features  (Columns): 12\n",
      "\n",
      "Training Data (y-side)\n",
      "----------------------\n",
      "Feature Name:        RENTALS\n",
      "Observations (Rows): 794\n",
      "\n",
      "Testing Data (X-side)\n",
      "---------------------\n",
      "Observations (Rows): 265\n",
      "Features  (Columns): 12\n",
      "\n",
      "Testing Data (y-side)\n",
      "---------------------\n",
      "Feature Name:        RENTALS\n",
      "Observations (Rows): 265\n",
      "\n"
     ]
    }
   ],
   "source": [
    "from sklearn.model_selection import train_test_split\n",
    "\n",
    "# Asumiendo 'y_variable' es el nombre de tu variable objetivo, por ejemplo, 'RENTALS'\n",
    "y_variable = 'RENTALS'\n",
    "\n",
    "# Escoge tus variables x (características), asegurándote de excluir cualquier variable no numérica o no deseada\n",
    "x_features = ['Temperature(F)', 'Humidity(%)', 'Wind speed (mph)_log', 'SolarRadiation(MJ/m2)_log', 'Visibility(miles)', 'Rainfall(in)', 'Snowfall(in)', 'Holiday', 'FunctioningDay', 'Hour', 'DayOfWeek', 'Weekend']  # Ajusta esta lista según las variables que decidas mantener\n",
    "\n",
    "# Preparar los datos manteniendo solo las columnas numéricas en x_features y eliminando filas con valores faltantes de manera coordinada en 'df'\n",
    "df_clean = df.dropna(subset=x_features + [y_variable])\n",
    "\n",
    "# Ahora, prepara y_data y x_data con el mismo número de observaciones\n",
    "y_data = df_clean[y_variable]\n",
    "x_data = df_clean[x_features].select_dtypes(include=[np.number])\n",
    "\n",
    "# Split de entrenamiento y prueba\n",
    "x_train, x_test, y_train, y_test = train_test_split(x_data, y_data, test_size=0.25, random_state=702)\n",
    "\n",
    "# Resultados del split de entrenamiento y prueba\n",
    "print(f\"\"\"\n",
    "Original Dataset Dimensions\n",
    "---------------------------\n",
    "Observations (Rows): {df.shape[0]}\n",
    "Features  (Columns): {df.shape[1]}\n",
    "\n",
    "Training Data (X-side)\n",
    "----------------------\n",
    "Observations (Rows): {x_train.shape[0]}\n",
    "Features  (Columns): {x_train.shape[1]}\n",
    "\n",
    "Training Data (y-side)\n",
    "----------------------\n",
    "Feature Name:        {y_train.name}\n",
    "Observations (Rows): {y_train.shape[0]}\n",
    "\n",
    "Testing Data (X-side)\n",
    "---------------------\n",
    "Observations (Rows): {x_test.shape[0]}\n",
    "Features  (Columns): {x_test.shape[1]}\n",
    "\n",
    "Testing Data (y-side)\n",
    "---------------------\n",
    "Feature Name:        {y_test.name}\n",
    "Observations (Rows): {y_test.shape[0]}\n",
    "\"\"\")\n"
   ]
  },
  {
   "cell_type": "code",
   "execution_count": 56,
   "id": "b9524da7",
   "metadata": {},
   "outputs": [
    {
     "name": "stdout",
     "output_type": "stream",
     "text": [
      "\n",
      "Model Name:     Decision Tree Regressor\n",
      "Train_Score:    1.0\n",
      "Test_Score:     0.6681\n",
      "Train-Test Gap: 0.3319\n",
      "\n"
     ]
    }
   ],
   "source": [
    "from sklearn.tree import DecisionTreeRegressor\n",
    "from sklearn.metrics import r2_score\n",
    "\n",
    "# Nombrando el modelo\n",
    "model_name_dt = 'Decision Tree Regressor'\n",
    "\n",
    "# Tipo de modelo\n",
    "model_dt = DecisionTreeRegressor(random_state=702)\n",
    "\n",
    "# Ajustando el modelo a los datos de entrenamiento\n",
    "model_dt.fit(x_train, y_train)\n",
    "\n",
    "# Prediciendo sobre nuevos datos\n",
    "model_pred_dt = model_dt.predict(x_test)\n",
    "\n",
    "# Puntuaciones del modelo\n",
    "model_train_score_dt = model_dt.score(x_train, y_train).round(4)\n",
    "model_test_score_dt = model_dt.score(x_test, y_test).round(4)\n",
    "model_gap_dt = abs(model_train_score_dt - model_test_score_dt).round(4)\n",
    "\n",
    "# Resumen de los resultados del modelo\n",
    "model_summary_dt = f\"\"\"\n",
    "Model Name:     {model_name_dt}\n",
    "Train_Score:    {model_train_score_dt}\n",
    "Test_Score:     {model_test_score_dt}\n",
    "Train-Test Gap: {model_gap_dt}\n",
    "\"\"\"\n",
    "\n",
    "print(model_summary_dt)\n"
   ]
  },
  {
   "cell_type": "code",
   "execution_count": 57,
   "id": "1511da32",
   "metadata": {},
   "outputs": [
    {
     "name": "stdout",
     "output_type": "stream",
     "text": [
      "\n",
      "Model Name:     K-Nearest Neighbors Regressor\n",
      "Train_Score:    0.5989\n",
      "Test_Score:     0.3996\n",
      "Train-Test Gap: 0.1993\n",
      "\n"
     ]
    }
   ],
   "source": [
    "from sklearn.neighbors import KNeighborsRegressor\n",
    "\n",
    "# Nombrando el modelo\n",
    "model_name_knn = 'K-Nearest Neighbors Regressor'\n",
    "\n",
    "# Tipo de modelo\n",
    "model_knn = KNeighborsRegressor()\n",
    "\n",
    "# Ajustando el modelo a los datos de entrenamiento\n",
    "model_knn.fit(x_train, y_train)\n",
    "\n",
    "# Prediciendo sobre nuevos datos\n",
    "model_pred_knn = model_knn.predict(x_test)\n",
    "\n",
    "# Puntuaciones del modelo\n",
    "model_train_score_knn = model_knn.score(x_train, y_train).round(4)\n",
    "model_test_score_knn = model_knn.score(x_test, y_test).round(4)\n",
    "model_gap_knn = abs(model_train_score_knn - model_test_score_knn).round(4)\n",
    "\n",
    "# Resumen de los resultados del modelo\n",
    "model_summary_knn = f\"\"\"\n",
    "Model Name:     {model_name_knn}\n",
    "Train_Score:    {model_train_score_knn}\n",
    "Test_Score:     {model_test_score_knn}\n",
    "Train-Test Gap: {model_gap_knn}\n",
    "\"\"\"\n",
    "\n",
    "print(model_summary_knn)\n"
   ]
  },
  {
   "cell_type": "code",
   "execution_count": 58,
   "id": "8435e1fe",
   "metadata": {},
   "outputs": [
    {
     "name": "stdout",
     "output_type": "stream",
     "text": [
      "Mejores parámetros (Árbol de Decisión): {'max_depth': None, 'min_samples_leaf': 4, 'min_samples_split': 2}\n",
      "Mejor puntaje (Árbol de Decisión): 0.7497144644441258\n"
     ]
    }
   ],
   "source": [
    "from sklearn.tree import DecisionTreeRegressor\n",
    "from sklearn.model_selection import GridSearchCV\n",
    "\n",
    "# Definir el modelo y los parámetros para la búsqueda de cuadrícula\n",
    "model_dt = DecisionTreeRegressor(random_state=42)\n",
    "param_grid_dt = {\n",
    "    'max_depth': [None, 5, 10, 15, 20],\n",
    "    'min_samples_split': [2, 5, 10],\n",
    "    'min_samples_leaf': [1, 2, 4]\n",
    "}\n",
    "\n",
    "# Búsqueda de cuadrícula\n",
    "grid_search_dt = GridSearchCV(estimator=model_dt, param_grid=param_grid_dt, cv=5, scoring='r2', n_jobs=-1)\n",
    "grid_search_dt.fit(x_train, y_train)\n",
    "\n",
    "# Mejores parámetros y puntaje\n",
    "print(\"Mejores parámetros (Árbol de Decisión):\", grid_search_dt.best_params_)\n",
    "print(\"Mejor puntaje (Árbol de Decisión):\", grid_search_dt.best_score_)\n"
   ]
  },
  {
   "cell_type": "code",
   "execution_count": 59,
   "id": "16b37374",
   "metadata": {
    "scrolled": true
   },
   "outputs": [
    {
     "name": "stdout",
     "output_type": "stream",
     "text": [
      "Mejores parámetros (KNN): {'metric': 'manhattan', 'n_neighbors': 7, 'weights': 'distance'}\n",
      "Mejor puntaje (KNN): 0.45975565466704305\n"
     ]
    }
   ],
   "source": [
    "from sklearn.neighbors import KNeighborsRegressor\n",
    "\n",
    "# Definir el modelo y los parámetros para la búsqueda de cuadrícula\n",
    "model_knn = KNeighborsRegressor()\n",
    "param_grid_knn = {\n",
    "    'n_neighbors': [3, 5, 7, 9],\n",
    "    'weights': ['uniform', 'distance'],\n",
    "    'metric': ['euclidean', 'manhattan']\n",
    "}\n",
    "\n",
    "# Búsqueda de cuadrícula\n",
    "grid_search_knn = GridSearchCV(estimator=model_knn, param_grid=param_grid_knn, cv=5, scoring='r2', n_jobs=-1)\n",
    "grid_search_knn.fit(x_train, y_train)\n",
    "\n",
    "# Mejores parámetros y puntaje\n",
    "print(\"Mejores parámetros (KNN):\", grid_search_knn.best_params_)\n",
    "print(\"Mejor puntaje (KNN):\", grid_search_knn.best_score_)\n"
   ]
  },
  {
   "cell_type": "code",
   "execution_count": 66,
   "id": "bdd7ad6c",
   "metadata": {},
   "outputs": [],
   "source": [
    "import numpy as np\n",
    "import pandas as pd\n",
    "\n",
    "# Primero, asegúrate de que 'DateHour' en kaggle_data sea de tipo datetime\n",
    "kaggle_data['DateHour'] = pd.to_datetime(kaggle_data['DateHour'], errors='coerce')\n",
    "\n",
    "# Aplicar las mismas transformaciones logarítmicas y ajustes a 'Wind speed (mph)' y 'SolarRadiation(MJ/m2)'\n",
    "kaggle_data['Wind speed (mph)'] += 1\n",
    "kaggle_data['SolarRadiation(MJ/m2)'] += 1\n",
    "\n",
    "kaggle_data['Wind speed (mph)_log'] = np.log(kaggle_data['Wind speed (mph)'])\n",
    "kaggle_data['SolarRadiation(MJ/m2)_log'] = np.log(kaggle_data['SolarRadiation(MJ/m2)'])\n",
    "\n",
    "# Extraer 'Hour' y 'DayOfWeek' de 'DateHour'\n",
    "kaggle_data['Hour'] = kaggle_data['DateHour'].dt.hour\n",
    "kaggle_data['DayOfWeek'] = kaggle_data['DateHour'].dt.dayofweek\n",
    "\n",
    "# Crear la columna 'Weekend' y otras variables binarias para momentos del día\n",
    "kaggle_data['Weekend'] = kaggle_data['DayOfWeek'].apply(lambda x: 1 if x >= 5 else 0)\n",
    "\n",
    "kaggle_data['Morning'] = kaggle_data['Hour'].apply(lambda x: 1 if 5 <= x < 12 else 0)\n",
    "kaggle_data['Afternoon'] = kaggle_data['Hour'].apply(lambda x: 1 if 12 <= x < 17 else 0)\n",
    "kaggle_data['Evening'] = kaggle_data['Hour'].apply(lambda x: 1 if 17 <= x < 21 else 0)\n",
    "kaggle_data['Night'] = kaggle_data['Hour'].apply(lambda x: 1 if 21 <= x or x < 5 else 0)\n",
    "\n",
    "# Asegurar que se aplican las codificaciones de variables categóricas\n",
    "kaggle_data['Holiday'] = kaggle_data['Holiday'].map({'No': 0, 'Yes': 1})\n",
    "kaggle_data['FunctioningDay'] = kaggle_data['FunctioningDay'].map({'No': 0, 'Yes': 1})\n",
    "\n"
   ]
  },
  {
   "cell_type": "code",
   "execution_count": 67,
   "id": "d2a924cd",
   "metadata": {},
   "outputs": [],
   "source": [
    "from sklearn.tree import DecisionTreeRegressor\n",
    "\n",
    "# Definir el modelo con los mejores parámetros\n",
    "optimized_decision_tree_model = DecisionTreeRegressor(max_depth=None, \n",
    "                                                      min_samples_leaf=4, \n",
    "                                                      min_samples_split=2,\n",
    "                                                      random_state=42)\n",
    "\n",
    "# Entrenar el modelo con el conjunto de datos de entrenamiento completo\n",
    "# Asegúrate de usar los datos de entrenamiento preparados correctamente\n",
    "optimized_decision_tree_model.fit(X_train_scaled, y_train)\n",
    "\n",
    "x_data_kaggle_scaled = scaler.transform(kaggle_data[x_features])\n",
    "\n",
    "kaggle_predictions = optimized_decision_tree_model.predict(x_data_kaggle_scaled)\n",
    "\n",
    "# Organizar las predicciones en un DataFrame\n",
    "model_predictions = {\"RENTALS\": kaggle_predictions}\n",
    "model_pred_df = pd.DataFrame(data=model_predictions, index=kaggle_data.index)\n",
    "\n",
    "# Guardar las predicciones en un archivo CSV\n",
    "model_pred_df.to_csv(path_or_buf=\"./model_output/optimized_decision_tree_predictions.csv\", index=True, index_label='ID')\n"
   ]
  },
  {
   "cell_type": "code",
   "execution_count": null,
   "id": "43f8691e",
   "metadata": {},
   "outputs": [],
   "source": []
  }
 ],
 "metadata": {
  "kernelspec": {
   "display_name": "Python 3 (ipykernel)",
   "language": "python",
   "name": "python3"
  },
  "language_info": {
   "codemirror_mode": {
    "name": "ipython",
    "version": 3
   },
   "file_extension": ".py",
   "mimetype": "text/x-python",
   "name": "python",
   "nbconvert_exporter": "python",
   "pygments_lexer": "ipython3",
   "version": "3.11.5"
  }
 },
 "nbformat": 4,
 "nbformat_minor": 5
}
