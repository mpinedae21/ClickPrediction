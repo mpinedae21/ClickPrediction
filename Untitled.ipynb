{
 "cells": [
  {
   "cell_type": "code",
   "execution_count": 14,
   "id": "33dade8c",
   "metadata": {
    "scrolled": false
   },
   "outputs": [
    {
     "name": "stdout",
     "output_type": "stream",
     "text": [
      "                           DateHour  Temperature(F)  Humidity(%)  Wind speed (mph)  Visibility(miles)  DewPointTemperature(F)  Rainfall(in)  Snowfall(in)  SolarRadiation(MJ/m2) Holiday FunctioningDay  RENTALS         set\n",
      "ID                                                                                                                                                                                                                          \n",
      "mb_1039  2023-10-14 05:59:54.810000              52           81               0.4                2.9                    46.4           0.0           0.0                   0.00      No            Yes    519.0  Not Kaggle\n",
      "mb_1330  2023-10-26 08:59:53.355000              51           53               2.2                NaN                    35.2           0.0           0.0                   1.01      No            Yes   1251.0  Not Kaggle\n",
      "mb_551   2023-09-23 21:59:57.250000              56           49               2.5                3.4                    38.8           0.0           0.0                   0.00      No            Yes   1685.0  Not Kaggle\n",
      "mb_2103         2023-12-19 14:00:00              69           32               9.8               12.4                    38.7           0.0           0.0                   2.36      No             No      0.0  Not Kaggle\n",
      "mb_1430  2023-10-30 12:59:52.855000              53           20               2.9               10.8                    12.9           0.0           0.0                   1.96      No            Yes    814.0  Not Kaggle\n"
     ]
    }
   ],
   "source": [
    "## importing libraries ##\n",
    "\n",
    "# Essentials\n",
    "import numpy as np\n",
    "import pandas as pd\n",
    "from sklearn.model_selection import train_test_split\n",
    "from sklearn.preprocessing import StandardScaler\n",
    "from sklearn.neighbors import KNeighborsRegressor\n",
    "from sklearn.pipeline import make_pipeline\n",
    "from sklearn.metrics import mean_squared_error, r2_score\n",
    "\n",
    "# Setting pandas print options (optional but useful for large dataframes)\n",
    "pd.set_option('display.max_rows', 500)\n",
    "pd.set_option('display.max_columns', 500)\n",
    "pd.set_option('display.width', 1000)\n",
    "\n",
    "\n",
    "## importing data ##\n",
    "\n",
    "file_path = './datasets/chicago_training_data.xlsx'\n",
    "\n",
    "# Reading training data into Python\n",
    "modeling_data = './datasets/train.xlsx'\n",
    "df_train = pd.read_excel(io=modeling_data, sheet_name='data', header=0, index_col='ID')\n",
    "\n",
    "# Reading testing data into Python\n",
    "testing_data = './datasets/test.xlsx'\n",
    "df_test = pd.read_excel(io=testing_data, sheet_name='data', header=0, index_col='ID')\n",
    "\n",
    "# Concatenating datasets together for missing value analysis and feature engineering\n",
    "df_train['set'] = 'Not Kaggle'\n",
    "df_test['set'] = 'Kaggle'\n",
    "\n",
    "# Concatenating both datasets together for MV analysis and feature engineering\n",
    "df_full = pd.concat(objs=[df_train, df_test], axis=0, ignore_index=False)\n",
    "\n",
    "# Checking the concatenated data\n",
    "print(df_full.head(n=5))"
   ]
  },
  {
   "cell_type": "code",
   "execution_count": 15,
   "id": "20350142",
   "metadata": {},
   "outputs": [
    {
     "name": "stdout",
     "output_type": "stream",
     "text": [
      "Before concatenation:\n",
      "Train columns: Index(['DateHour', 'Temperature(F)', 'Humidity(%)', 'Wind speed (mph)', 'Visibility(miles)', 'DewPointTemperature(F)', 'Rainfall(in)', 'Snowfall(in)', 'SolarRadiation(MJ/m2)', 'Holiday', 'FunctioningDay', 'RENTALS', 'set'], dtype='object')\n",
      "Test columns: Index(['DateHour', 'Temperature(F)', 'Humidity(%)', 'Wind speed (mph)', 'Visibility(miles)', 'DewPointTemperature(F)', 'Rainfall(in)', 'Snowfall(in)', 'SolarRadiation(MJ/m2)', 'Holiday', 'FunctioningDay', 'set'], dtype='object')\n",
      "After concatenation:\n",
      "Full columns: Index(['DateHour', 'Temperature(F)', 'Humidity(%)', 'Wind speed (mph)', 'Visibility(miles)', 'DewPointTemperature(F)', 'Rainfall(in)', 'Snowfall(in)', 'SolarRadiation(MJ/m2)', 'Holiday', 'FunctioningDay', 'RENTALS', 'set'], dtype='object')\n",
      "Columns are present, proceeding with further processing.\n"
     ]
    }
   ],
   "source": [
    "# Asumiendo que df_train y df_test son tus DataFrames de entrenamiento y prueba respectivamente\n",
    "\n",
    "# Verifica si 'Holiday' y 'FunctioningDay' están en df_train y df_test antes de concatenar\n",
    "print(\"Before concatenation:\")\n",
    "print(\"Train columns:\", df_train.columns)\n",
    "print(\"Test columns:\", df_test.columns)\n",
    "\n",
    "# Concatenación (asegúrate de que esta parte funciona como esperas)\n",
    "df_full = pd.concat([df_train, df_test], axis=0)\n",
    "\n",
    "# Verificación después de la concatenación\n",
    "print(\"After concatenation:\")\n",
    "print(\"Full columns:\", df_full.columns)\n",
    "\n",
    "# Asegúrate de que las columnas existan antes de proceder con la codificación One-Hot u otras operaciones\n",
    "if 'Holiday' in df_full.columns and 'FunctioningDay' in df_full.columns:\n",
    "    # Procede con la codificación One-Hot o la operación deseada\n",
    "    print(\"Columns are present, proceeding with further processing.\")\n",
    "else:\n",
    "    print(\"Columns are missing, check earlier steps.\")\n"
   ]
  },
  {
   "cell_type": "code",
   "execution_count": 9,
   "id": "70567e45",
   "metadata": {
    "scrolled": true
   },
   "outputs": [
    {
     "name": "stdout",
     "output_type": "stream",
     "text": [
      "KNN R² score: 0.6705283065215774\n",
      "Decision Tree R² score: 0.5499507598395843\n"
     ]
    },
    {
     "name": "stderr",
     "output_type": "stream",
     "text": [
      "C:\\Users\\Marcio Pineda\\Documents\\Python\\Lib\\site-packages\\sklearn\\preprocessing\\_encoders.py:972: FutureWarning: `sparse` was renamed to `sparse_output` in version 1.2 and will be removed in 1.4. `sparse_output` is ignored unless you leave `sparse` to its default value.\n",
      "  warnings.warn(\n"
     ]
    }
   ],
   "source": [
    "## Ingeniería de características ##\n",
    "\n",
    "from sklearn.preprocessing import OneHotEncoder, StandardScaler\n",
    "from sklearn.impute import SimpleImputer\n",
    "from sklearn.neighbors import KNeighborsRegressor\n",
    "from sklearn.pipeline import make_pipeline\n",
    "from sklearn.tree import DecisionTreeRegressor\n",
    "from sklearn.model_selection import cross_val_score\n",
    "import numpy as np\n",
    "import pandas as pd\n",
    "from sklearn.linear_model import LinearRegression, Lasso, Ridge\n",
    "from sklearn.linear_model import SGDRegressor  # Para Elastic Net\n",
    "from sklearn.model_selection import GridSearchCV\n",
    "\n",
    "## Concatenación de los conjuntos de datos ##\n",
    "# Asegúrate de que df_train y df_test están definidos y tienen las columnas 'set' apropiadas\n",
    "\n",
    "df_full = pd.concat(objs=[df_train, df_test], axis=0, ignore_index=False)\n",
    "\n",
    "## Ingeniería de características ##\n",
    "\n",
    "# Conversión de 'DateHour' a datetime\n",
    "df_full['DateHour'] = pd.to_datetime(df_full['DateHour'], errors='coerce')\n",
    "\n",
    "# Extracción de características temporales\n",
    "df_full['year'] = df_full['DateHour'].dt.year\n",
    "df_full['month'] = df_full['DateHour'].dt.month\n",
    "df_full['day'] = df_full['DateHour'].dt.day\n",
    "df_full['hour'] = df_full['DateHour'].dt.hour\n",
    "df_full['dayofweek'] = df_full['DateHour'].dt.dayofweek\n",
    "\n",
    "# Codificación One-Hot para 'Holiday' y 'FunctioningDay'\n",
    "encoder = OneHotEncoder(sparse=False, drop='first')\n",
    "encoded_features = encoder.fit_transform(df_full[['Holiday', 'FunctioningDay']])\n",
    "encoded_features_df = pd.DataFrame(encoded_features, columns=encoder.get_feature_names_out(['Holiday', 'FunctioningDay']), index=df_full.index)\n",
    "\n",
    "# Agrega las nuevas columnas codificadas y elimina las originales\n",
    "df_full = pd.concat([df_full.drop(['Holiday', 'FunctioningDay'], axis=1), encoded_features_df], axis=1)\n",
    "\n",
    "# Separar los datos procesados de nuevo en conjuntos de entrenamiento y prueba\n",
    "df_train_processed = df_full[df_full['set'] == 'Not Kaggle'].drop(['set', 'DateHour'], axis=1)\n",
    "df_test_processed = df_full[df_full['set'] == 'Kaggle'].drop(['set', 'DateHour', 'RENTALS'], axis=1)\n",
    "\n",
    "# Preparación de los conjuntos de datos para el entrenamiento\n",
    "X_train = df_train_processed.drop('RENTALS', axis=1)\n",
    "y_train = df_train_processed['RENTALS']\n",
    "X_test = df_test_processed\n",
    "\n",
    "## Entrenamiento y evaluación de modelos ##\n",
    "\n",
    "knn_pipeline = make_pipeline(\n",
    "    SimpleImputer(strategy='mean'),  # Imputación de valores faltantes\n",
    "    StandardScaler(),\n",
    "    KNeighborsRegressor(n_neighbors=5, weights='distance', metric='manhattan')\n",
    ")\n",
    "knn_pipeline.fit(X_train, y_train)  # Ajuste del pipeline con datos de entrenamiento\n",
    "\n",
    "\n",
    "# Decision Tree Regressor\n",
    "dt_model = DecisionTreeRegressor(max_depth=10, random_state=42)\n",
    "dt_model.fit(X_train, y_train)  # Ajuste del modelo con datos de entrenamiento\n",
    "\n",
    "# Evaluación con validación cruzada\n",
    "from sklearn.model_selection import cross_val_score\n",
    "knn_scores = cross_val_score(knn_pipeline, X_train, y_train, cv=5, scoring='r2')\n",
    "dt_scores = cross_val_score(dt_model, X_train, y_train, cv=5, scoring='r2')\n",
    "\n",
    "print(\"KNN R² score:\", np.mean(knn_scores))\n",
    "print(\"Decision Tree R² score:\", np.mean(dt_scores))\n",
    "\n",
    "\n",
    "\n",
    "\n",
    "\n",
    "## Predicciones para el conjunto de prueba ##\n",
    "predictions_knn = knn_pipeline.predict(X_test)\n",
    "predictions_dt = dt_model.predict(X_test)\n",
    "\n",
    "# Generación de archivos de sumisión\n",
    "submission_knn = pd.DataFrame({'ID': df_test_processed.index, 'RENTALS': predictions_knn})\n",
    "submission_dt = pd.DataFrame({'ID': df_test_processed.index, 'RENTALS': predictions_dt})"
   ]
  },
  {
   "cell_type": "code",
   "execution_count": 10,
   "id": "b42993ad",
   "metadata": {},
   "outputs": [
    {
     "name": "stdout",
     "output_type": "stream",
     "text": [
      "Mejores parámetros para KNN: {'kneighborsregressor__metric': 'manhattan', 'kneighborsregressor__n_neighbors': 8, 'kneighborsregressor__weights': 'distance'}\n",
      "Mejor score R² para KNN: 0.6759888564703906\n"
     ]
    }
   ],
   "source": [
    "from sklearn.model_selection import GridSearchCV\n",
    "\n",
    "# Definición del pipeline de KNN con imputación y escalado de características\n",
    "knn_pipeline = make_pipeline(SimpleImputer(strategy='mean'), StandardScaler(), KNeighborsRegressor())\n",
    "\n",
    "# Parámetros para GridSearchCV\n",
    "knn_params = {\n",
    "    'kneighborsregressor__n_neighbors': range(3, 10),\n",
    "    'kneighborsregressor__weights': ['uniform', 'distance'],\n",
    "    'kneighborsregressor__metric': ['euclidean', 'manhattan']\n",
    "}\n",
    "\n",
    "# Búsqueda de GridSearchCV para KNN\n",
    "grid_search_knn = GridSearchCV(knn_pipeline, knn_params, cv=5, scoring='r2', n_jobs=-1)\n",
    "grid_search_knn.fit(X_train, y_train)\n",
    "\n",
    "# Mejores parámetros y score para KNN\n",
    "print(\"Mejores parámetros para KNN:\", grid_search_knn.best_params_)\n",
    "print(\"Mejor score R² para KNN:\", grid_search_knn.best_score_)\n"
   ]
  },
  {
   "cell_type": "code",
   "execution_count": 13,
   "id": "ba70f47c",
   "metadata": {},
   "outputs": [
    {
     "name": "stdout",
     "output_type": "stream",
     "text": [
      "Mejores parámetros para Decision Tree: {'max_depth': 8, 'min_samples_leaf': 5, 'min_samples_split': 2}\n",
      "Mejor score R² para Decision Tree: 0.606181843317333\n"
     ]
    }
   ],
   "source": [
    "# Definición del modelo de Decision Tree\n",
    "dt_model = DecisionTreeRegressor(random_state=42)\n",
    "\n",
    "# Parámetros para GridSearchCV\n",
    "dt_params = {\n",
    "    'max_depth': range(3, 20),\n",
    "    'min_samples_split': range(2, 10),\n",
    "    'min_samples_leaf': range(1, 10)\n",
    "}\n",
    "\n",
    "# Búsqueda de GridSearchCV para Decision Tree\n",
    "grid_search_dt = GridSearchCV(dt_model, dt_params, cv=5, scoring='r2', n_jobs=-1)\n",
    "grid_search_dt.fit(X_train, y_train)\n",
    "\n",
    "# Mejores parámetros y score para Decision Tree\n",
    "print(\"Mejores parámetros para Decision Tree:\", grid_search_dt.best_params_)\n",
    "print(\"Mejor score R² para Decision Tree:\", grid_search_dt.best_score_)\n"
   ]
  },
  {
   "cell_type": "code",
   "execution_count": null,
   "id": "4c661814",
   "metadata": {},
   "outputs": [],
   "source": [
    "# Asumiendo df_full es tu DataFrame completo que incluye tanto los datos de Kaggle como los de modelado\n",
    "\n",
    "# Separar los datos para Kaggle\n",
    "kaggle_data = df_full[df_full['set'] == 'Kaggle'].copy()\n",
    "\n",
    "# Datos para la construcción del modelo\n",
    "df = df_full[df_full['set'] == 'Not Kaggle'].copy()\n",
    "\n",
    "# Eliminar el identificador 'set'\n",
    "kaggle_data.drop(labels='set', axis=1, inplace=True)\n",
    "df.drop(labels='set', axis=1, inplace=True)"
   ]
  },
  {
   "cell_type": "code",
   "execution_count": null,
   "id": "a02fc1ca",
   "metadata": {},
   "outputs": [],
   "source": []
  }
 ],
 "metadata": {
  "kernelspec": {
   "display_name": "Python 3 (ipykernel)",
   "language": "python",
   "name": "python3"
  },
  "language_info": {
   "codemirror_mode": {
    "name": "ipython",
    "version": 3
   },
   "file_extension": ".py",
   "mimetype": "text/x-python",
   "name": "python",
   "nbconvert_exporter": "python",
   "pygments_lexer": "ipython3",
   "version": "3.11.5"
  }
 },
 "nbformat": 4,
 "nbformat_minor": 5
}
